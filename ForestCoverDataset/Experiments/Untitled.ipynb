{
 "cells": [
  {
   "cell_type": "code",
   "execution_count": 1,
   "id": "30f613c6-2ce2-4434-8fc9-31dbf185dc37",
   "metadata": {},
   "outputs": [],
   "source": [
    "from pathlib import Path\n",
    "\n",
    "import numpy as np\n",
    "import pandas as pd\n",
    "import xgboost as xgb\n",
    "import sklearn as skl\n",
    "\n",
    "from mylib import class_distributions\n",
    "from mylib import data_selection\n",
    "from mylib import helper_funcs\n",
    "\n",
    "from mylib.pipelines import full_models\n",
    "\n",
    "%load_ext autoreload\n",
    "%autoreload 2"
   ]
  },
  {
   "cell_type": "code",
   "execution_count": 2,
   "id": "b9098d24-c0e6-4c68-a8a3-56a9fbec2053",
   "metadata": {},
   "outputs": [],
   "source": [
    "# open file\n",
    "\n",
    "data_folder = Path(\"../../../data/ForestCoverDataset/\")\n",
    "file_to_open = data_folder / \"covtype.data\"\n",
    "\n",
    "\n",
    "# read and prepare data\n",
    "\n",
    "data = pd.read_csv(file_to_open, delimiter=\",\", header=None)\n",
    "\n",
    "# add the header manually\n",
    "header = {0: \"Elevation\", 1: \"Aspect\", 2: \"Slope\", 3: \"Horizontal_Distance_To_Hydrology\",\n",
    "          4: \"Vertical_Distance_To_Hydrology\", 5: \"Horizontal_Distance_To_Roadways\",\n",
    "          6: \"Hillshade_9am\", 7: \"Hillshade_Noon\", 8: \"Hillshade_3pm\", 9: \"Horizontal_Distance_To_Fire_Points\"}\n",
    "\n",
    "# add the names of binary columns\n",
    "for i in range(1, 5):\n",
    "    header[9+i] = f\"Wilderness_Area_{i}\"\n",
    "\n",
    "for i in range(1, 41):\n",
    "    header[13+i] = f\"Soil_Type_{i}\"\n",
    "\n",
    "header[54] = \"Class\"\n",
    "\n",
    "#data = data.drop(range(10,54), axis=1)\n",
    "\n",
    "data = data.rename(header, axis=1)\n",
    "data[\"Class\"] = data[\"Class\"] - 1   # want 0-based index\n",
    "data.to_csv(data_folder / 'ForestCoverDataset.csv', index=False)"
   ]
  },
  {
   "cell_type": "code",
   "execution_count": 3,
   "id": "8a127874-9783-46e8-83de-203cba4f3d27",
   "metadata": {},
   "outputs": [],
   "source": [
    "data = pd.read_csv(data_folder / 'ForestCoverDataset.csv')"
   ]
  },
  {
   "cell_type": "code",
   "execution_count": 4,
   "id": "6be5f83e-061e-4d65-859d-a190719bfcb0",
   "metadata": {},
   "outputs": [
    {
     "data": {
      "text/plain": [
       "1    0.487599\n",
       "0    0.364605\n",
       "2    0.061537\n",
       "6    0.035300\n",
       "5    0.029891\n",
       "4    0.016339\n",
       "3    0.004728\n",
       "Name: Class, dtype: float64"
      ]
     },
     "execution_count": 4,
     "metadata": {},
     "output_type": "execute_result"
    }
   ],
   "source": [
    "class_distributions.label_proportions(data['Class'])"
   ]
  },
  {
   "cell_type": "code",
   "execution_count": 5,
   "id": "62468c4a-9599-4140-9151-12d5b664136c",
   "metadata": {},
   "outputs": [
    {
     "name": "stdout",
     "output_type": "stream",
     "text": [
      "Training full models in preparation to add class 1 using the continued_training training method\n",
      "Accuracy of full model on old data:  0.631109812312388\n",
      "Accuracy of full model on new data:  0.7950801444400125\n",
      "Accuracy of full model on full data:  0.7107561766907912\n",
      "220.67184063599962\n"
     ]
    }
   ],
   "source": [
    "import time\n",
    "\n",
    "filepath = data_folder / 'ForestCoverDataset.csv'\n",
    "training_method = 'continued_training'\n",
    "new_class_idx = 1\n",
    "num_models = 3\n",
    "num_round = 10\n",
    "max_depth = 5\n",
    "\n",
    "start = time.perf_counter()\n",
    "full_models.full_models(filepath,\n",
    "                        training_method,\n",
    "                        new_class_idx,\n",
    "                        num_models,\n",
    "                        num_round=10,\n",
    "                        max_depth=3)\n",
    "end = time.perf_counter()\n",
    "\n",
    "print(end-start)"
   ]
  },
  {
   "cell_type": "code",
   "execution_count": null,
   "id": "1f0a7ad3-bd1b-4352-852b-6b897221e1cb",
   "metadata": {},
   "outputs": [],
   "source": []
  }
 ],
 "metadata": {
  "kernelspec": {
   "display_name": "env_master",
   "language": "python",
   "name": "env_master"
  },
  "language_info": {
   "codemirror_mode": {
    "name": "ipython",
    "version": 3
   },
   "file_extension": ".py",
   "mimetype": "text/x-python",
   "name": "python",
   "nbconvert_exporter": "python",
   "pygments_lexer": "ipython3",
   "version": "3.10.12"
  }
 },
 "nbformat": 4,
 "nbformat_minor": 5
}
