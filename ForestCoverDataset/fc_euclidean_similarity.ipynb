{
 "cells": [
  {
   "cell_type": "code",
   "execution_count": 1,
   "id": "ef71176f-59d9-4937-85c2-67e218986afa",
   "metadata": {},
   "outputs": [],
   "source": [
    "import sys\n",
    "sys.path.append(\"/home/dfischer/masterarbeit/src/\")\n",
    "\n",
    "from pathlib import Path\n",
    "\n",
    "import numpy as np\n",
    "import pandas as pd\n",
    "import xgboost as xgb\n",
    "import sklearn as skl\n",
    "import _pickle as pickle\n",
    "\n",
    "import lib.class_distributions as class_distributions\n",
    "import lib.data_selection as data_selection\n",
    "import lib.helper_funcs as helper_funcs\n",
    "\n",
    "import dtreeviz\n",
    "import logging\n",
    "# to suppress messages when plotting trees\n",
    "logging.getLogger('matplotlib.font_manager').setLevel(level=logging.CRITICAL)\n",
    "import matplotlib.pyplot as plt\n",
    "\n",
    "%load_ext autoreload\n",
    "%autoreload 2"
   ]
  },
  {
   "cell_type": "code",
   "execution_count": 2,
   "id": "801cff46-9afd-46db-a41f-ccc2af8c53e1",
   "metadata": {},
   "outputs": [],
   "source": [
    "# open file\n",
    "\n",
    "data_folder = Path(\"../../data/ForestCoverDataset/\")\n",
    "model_folder = Path(\"../../models/ForestCoverDataset\")\n",
    "file_to_open = data_folder / \"covtype.data\""
   ]
  },
  {
   "cell_type": "code",
   "execution_count": 3,
   "id": "c0fcc1b1-6c06-477a-9a93-ac8af5b4e33e",
   "metadata": {},
   "outputs": [],
   "source": [
    "# read and prepare data\n",
    "\n",
    "data = pd.read_csv(file_to_open, delimiter=\",\", header=None)\n",
    "\n",
    "# add the header manually\n",
    "header = {0: \"Elevation\", 1: \"Aspect\", 2: \"Slope\", 3: \"Horizontal_Distance_To_Hydrology\",\n",
    "          4: \"Vertical_Distance_To_Hydrology\", 5: \"Horizontal_Distance_To_Roadways\",\n",
    "          6: \"Hillshade_9am\", 7: \"Hillshade_Noon\", 8: \"Hillshade_3pm\", 9: \"Horizontal_Distance_To_Fire_Points\"}\n",
    "\n",
    "# add the names of binary columns\n",
    "for i in range(1, 5):\n",
    "    header[9+i] = f\"Wilderness_Area_{i}\"\n",
    "\n",
    "for i in range(1, 41):\n",
    "    header[13+i] = f\"Soil_Type_{i}\"\n",
    "    \n",
    "header[54] = \"Cover_Type\"\n",
    "\n",
    "data = data.rename(header, axis=1)\n",
    "\n",
    "# need feature matrix X and labels labels for xgboost\n",
    "labels = data[\"Cover_Type\"]\n",
    "labels = labels - 1   # want 0-based index\n",
    "X = data.drop([\"Cover_Type\"],axis=1,inplace=False)"
   ]
  },
  {
   "cell_type": "code",
   "execution_count": 4,
   "id": "37f9ada7",
   "metadata": {},
   "outputs": [
    {
     "data": {
      "text/plain": [
       "1    0.487599\n",
       "0    0.364605\n",
       "2    0.061537\n",
       "6    0.035300\n",
       "5    0.029891\n",
       "4    0.016339\n",
       "3    0.004728\n",
       "Name: Cover_Type, dtype: float64"
      ]
     },
     "execution_count": 4,
     "metadata": {},
     "output_type": "execute_result"
    }
   ],
   "source": [
    "class_distributions.label_proportions(labels)"
   ]
  },
  {
   "cell_type": "markdown",
   "id": "60182ba0-6c12-4eee-bec3-f93e4c7221ca",
   "metadata": {},
   "source": [
    "### Die ersten beiden Klassen machen einen Großteil des Datensatzes aus! Vielleicht mal eine von den beiden dazulernen"
   ]
  },
  {
   "cell_type": "code",
   "execution_count": 5,
   "id": "3e4b1de7-5c90-4324-b06a-ae63282f27da",
   "metadata": {},
   "outputs": [],
   "source": [
    "# prepare smaller dataset with only subset of classes\n",
    "\n",
    "old_classes = [0,1,2,4,5,6]\n",
    "new_class = 3\n",
    "\n",
    "# compute number of old labels used\n",
    "num_labels = len(old_classes)\n",
    "\n",
    "# relabel for XGBoost\n",
    "labels = helper_funcs.relabel(labels, old_classes, new_class)\n",
    "\n",
    "data_small = X[labels < num_labels]\n",
    "labels_small = labels[labels < num_labels]\n",
    "\n",
    "# attempt to retrain with new data\n",
    "data_update = X[labels == num_labels]\n",
    "labels_update = labels[labels == num_labels]\n",
    "\n",
    "# also train a model with all the data availale for comparison\n",
    "data_full = pd.concat([data_small, data_update])\n",
    "labels_full = pd.concat([labels_small, labels_update])"
   ]
  },
  {
   "cell_type": "code",
   "execution_count": 6,
   "id": "94f0d789-1856-438d-9d63-2da4462b4a89",
   "metadata": {},
   "outputs": [],
   "source": [
    "# split data into train- and test-data\n",
    "\n",
    "X_train_small, X_test_small, y_train_small, y_test_small = skl.model_selection.train_test_split(data_small, \n",
    "                                                    labels_small,\n",
    "                                                    test_size=.2)"
   ]
  },
  {
   "cell_type": "code",
   "execution_count": 7,
   "id": "85ded699-1ef0-4861-a048-9a8988bbde7f",
   "metadata": {},
   "outputs": [],
   "source": [
    "# specify DMatrices\n",
    "\n",
    "dtrain_small = xgb.DMatrix(X_train_small, label=y_train_small)\n",
    "dtest_small = xgb.DMatrix(X_test_small, label=y_test_small)\n",
    "\n",
    "# specify some parameters\n",
    "num_models = 1\n",
    "proportion_of_old_data = [i*0.1 for i in range(1,10)]\n",
    "\n",
    "# specify paramters for XGBoost\n",
    "num_round = 100\n",
    "early_stopping_rounds = num_round*.1\n",
    "max_depth = 3\n",
    "eta = .1\n",
    "\n",
    "param_small = {'max_depth': max_depth, 'eta': eta, 'objective': 'multi:softprob', \"num_class\": num_labels}\n",
    "param_small['nthread'] = 4\n",
    "param_small['eval_metric'] = 'mlogloss'\n",
    "\n",
    "evallist_small = [(dtrain_small, 'train'), (dtest_small, 'eval')]"
   ]
  },
  {
   "cell_type": "code",
   "execution_count": 8,
   "id": "0e008380-28eb-4ff9-a1db-9236749c602f",
   "metadata": {},
   "outputs": [
    {
     "name": "stdout",
     "output_type": "stream",
     "text": [
      "[0]\ttrain-mlogloss:1.65268\teval-mlogloss:1.65310\n",
      "[50]\ttrain-mlogloss:0.64550\teval-mlogloss:0.65000\n",
      "[99]\ttrain-mlogloss:0.58408\teval-mlogloss:0.58944\n"
     ]
    }
   ],
   "source": [
    "# training model with fewer labels\n",
    "bst_small = xgb.train(param_small,\n",
    "                      dtrain_small,\n",
    "                      num_round,\n",
    "                      evals=evallist_small,\n",
    "                      early_stopping_rounds=early_stopping_rounds,\n",
    "                      verbose_eval=50)\n",
    "\n",
    "bst_small.save_model(fname=model_folder / 'fewer_class_model.json')"
   ]
  },
  {
   "cell_type": "code",
   "execution_count": 9,
   "id": "e3f48534-ff34-4085-8aaa-a374e893b78c",
   "metadata": {},
   "outputs": [
    {
     "name": "stdout",
     "output_type": "stream",
     "text": [
      "Accuracy on test data:  0.7435691248821907\n"
     ]
    }
   ],
   "source": [
    "print(\"Accuracy on test data: \", skl.metrics.accuracy_score(np.argmax(bst_small.predict(dtest_small), axis=1), y_test_small))"
   ]
  },
  {
   "cell_type": "code",
   "execution_count": 10,
   "id": "ec960e80-c25a-4daf-846a-5650d2ead6d3",
   "metadata": {},
   "outputs": [],
   "source": [
    "# split data into train- and test-data\n",
    "\n",
    "X_train_update, X_test_update, y_train_update, y_test_update = skl.model_selection.train_test_split(data_update,\n",
    "                                                                                                    labels_update,\n",
    "                                                                                                    test_size=.2)\n",
    "\n",
    "X_train_full, X_test_full, y_train_full, y_test_full = skl.model_selection.train_test_split(data_full,\n",
    "                                                                                            labels_full,\n",
    "                                                                                            test_size=.2)"
   ]
  },
  {
   "cell_type": "code",
   "execution_count": 11,
   "id": "a7de1f28-0016-4059-9a9f-b8c9af51241c",
   "metadata": {},
   "outputs": [],
   "source": [
    "# specify DMatrices\n",
    "\n",
    "dtrain_update = xgb.DMatrix(X_train_update, label=y_train_update)\n",
    "dtest_update = xgb.DMatrix(X_test_update, label=y_test_update)\n",
    "\n",
    "dtrain_full = xgb.DMatrix(X_train_full, label=y_train_full)\n",
    "dtest_full = xgb.DMatrix(X_test_full, label=y_test_full)\n",
    "\n",
    "\n",
    "# specify paramters for XGBoost\n",
    "param_update = {'max_depth': max_depth,\n",
    "                'eta': eta,\n",
    "                'objective': 'multi:softprob',\n",
    "                \"num_class\": num_labels+1}\n",
    "param_update['nthread'] = 4\n",
    "param_update['eval_metric'] = 'mlogloss'\n",
    "\n",
    "evallist_update = [(dtrain_update, 'train'), (dtest_update, 'eval')]\n",
    "\n",
    "\n",
    "param_full = {'max_depth': max_depth,\n",
    "              'eta': eta,\n",
    "              'objective': 'multi:softprob',\n",
    "              \"num_class\": num_labels+1}\n",
    "param_full['nthread'] = 4\n",
    "param_full['eval_metric'] = 'mlogloss'\n",
    "\n",
    "evallist_full = [(dtrain_full, 'train'), (dtest_full, 'eval')]"
   ]
  },
  {
   "cell_type": "code",
   "execution_count": 12,
   "id": "8ec12a15-f6ba-4359-9c92-bb22377e3add",
   "metadata": {},
   "outputs": [
    {
     "name": "stdout",
     "output_type": "stream",
     "text": [
      "[0]\ttrain-mlogloss:1.78089\teval-mlogloss:1.78121\n",
      "[25]\ttrain-mlogloss:0.78335\teval-mlogloss:0.78609\n",
      "[50]\ttrain-mlogloss:0.65379\teval-mlogloss:0.65702\n",
      "[75]\ttrain-mlogloss:0.61085\teval-mlogloss:0.61456\n",
      "[99]\ttrain-mlogloss:0.58884\teval-mlogloss:0.59299\n"
     ]
    }
   ],
   "source": [
    "# training a model with all the training data\n",
    "\n",
    "bst_full = xgb.train(param_full,\n",
    "                     dtrain_full,\n",
    "                     num_round,\n",
    "                     evals=evallist_full,\n",
    "                     early_stopping_rounds=early_stopping_rounds,\n",
    "                     verbose_eval=25)\n",
    "\n",
    "bst_full.save_model(fname=model_folder / 'fewer_class_model_full.json')"
   ]
  },
  {
   "cell_type": "code",
   "execution_count": 13,
   "id": "85eb9545-083e-42b4-a702-4959a106baf9",
   "metadata": {},
   "outputs": [
    {
     "name": "stdout",
     "output_type": "stream",
     "text": [
      "Accuracy on test data:  0.7441029921774825\n"
     ]
    }
   ],
   "source": [
    "print(\"Accuracy on test data: \", skl.metrics.accuracy_score(np.argmax(bst_full.predict(dtest_full), axis=1), y_test_full))"
   ]
  },
  {
   "cell_type": "code",
   "execution_count": 14,
   "id": "97134f95",
   "metadata": {},
   "outputs": [
    {
     "name": "stdout",
     "output_type": "stream",
     "text": [
      "Current target proportion of old data in use: 0.1\n",
      "Current target proportion of old data in use: 0.2\n",
      "Current target proportion of old data in use: 0.30000000000000004\n",
      "Current target proportion of old data in use: 0.4\n",
      "Current target proportion of old data in use: 0.5\n",
      "Current target proportion of old data in use: 0.6000000000000001\n",
      "Current target proportion of old data in use: 0.7000000000000001\n",
      "Current target proportion of old data in use: 0.8\n",
      "Current target proportion of old data in use: 0.9\n"
     ]
    }
   ],
   "source": [
    "random_old = []\n",
    "random_new = []\n",
    "random_mixed = []\n",
    "random_full = []\n",
    "\n",
    "\n",
    "for proportion in proportion_of_old_data:\n",
    "    print(f\"Current target proportion of old data in use: {proportion}\")\n",
    "    \n",
    "    random_old_tmp = 0\n",
    "    random_new_tmp = 0\n",
    "    random_mixed_tmp = 0\n",
    "    random_full_tmp = 0\n",
    "    \n",
    "    for _ in range(num_models):\n",
    "\n",
    "        _, old_data_part, _, old_y_part = skl.model_selection.train_test_split(data_small,\n",
    "                                                                                labels_small,\n",
    "                                                                                test_size=proportion)\n",
    "\n",
    "        data_update2 = pd.concat([old_data_part, data_update])\n",
    "        labels_update2 = pd.concat([old_y_part, labels_update])\n",
    "\n",
    "        X_train_update2, X_test_update2, y_train_update2, y_test_update2 = skl.model_selection.train_test_split(data_update2,\n",
    "                                                                                                                labels_update2,\n",
    "                                                                                                                test_size=.2)\n",
    "\n",
    "        # create DMatrices\n",
    "\n",
    "        dtrain_update2 = xgb.DMatrix(X_train_update2, label=y_train_update2)\n",
    "        dtest_update2 = xgb.DMatrix(X_test_update2, label=y_test_update2)\n",
    "\n",
    "        # train model\n",
    "        bst_update2 = xgb.train(param_update,\n",
    "                                  dtrain_update2,\n",
    "                                  num_round,\n",
    "                                  evals=evallist_update,\n",
    "                                  early_stopping_rounds=early_stopping_rounds,\n",
    "                                  verbose_eval=False,\n",
    "                                  xgb_model=model_folder/\"fewer_class_model.json\")\n",
    "\n",
    "        random_old_tmp += skl.metrics.accuracy_score(np.argmax(bst_update2.predict(dtest_small), axis=1), y_test_small)\n",
    "        random_new_tmp += skl.metrics.accuracy_score(np.argmax(bst_update2.predict(dtest_update), axis=1), y_test_update)\n",
    "        random_mixed_tmp += skl.metrics.accuracy_score(np.argmax(bst_update2.predict(dtest_update2), axis=1), y_test_update2)\n",
    "        random_full_tmp += skl.metrics.accuracy_score(np.argmax(bst_update2.predict(dtest_full), axis=1), y_test_full)\n",
    "        \n",
    "    random_old.append(random_old_tmp/num_models)\n",
    "    random_new.append(random_new_tmp/num_models)    \n",
    "    random_mixed.append(random_mixed_tmp/num_models)    \n",
    "    random_full.append(random_full_tmp/num_models)"
   ]
  },
  {
   "cell_type": "code",
   "execution_count": 15,
   "id": "8f27ae9d-377b-4811-9e4b-f31fe0c43aa4",
   "metadata": {},
   "outputs": [
    {
     "name": "stdout",
     "output_type": "stream",
     "text": [
      "Current target proportion of old data in use: 0.1\n",
      "Current target proportion of old data in use: 0.2\n",
      "Current target proportion of old data in use: 0.30000000000000004\n",
      "Current target proportion of old data in use: 0.4\n",
      "Current target proportion of old data in use: 0.5\n",
      "Current target proportion of old data in use: 0.6000000000000001\n",
      "Current target proportion of old data in use: 0.7000000000000001\n",
      "Current target proportion of old data in use: 0.8\n",
      "Current target proportion of old data in use: 0.9\n"
     ]
    }
   ],
   "source": [
    "critical_old = []\n",
    "critical_new = []\n",
    "critical_mixed = []\n",
    "critical_full = []\n",
    "\n",
    "\n",
    "for proportion in proportion_of_old_data:\n",
    "    print(f\"Current target proportion of old data in use: {proportion}\")\n",
    "    \n",
    "    # get critical data\n",
    "    critical_data, critical_data_labels = data_selection.get_samples_euclidean(data_small,\n",
    "                                                                                  labels_small,\n",
    "                                                                                  data_update,\n",
    "                                                                                  ratio_return_total = proportion,\n",
    "                                                                                  normalization=\"min_max\",\n",
    "                                                                                  sort_type=\"closest\")\n",
    "    \n",
    "     \n",
    "    # concatenate with data for new class\n",
    "    critical_data = pd.concat([critical_data, data_update])\n",
    "    critical_data_labels = pd.concat([critical_data_labels, labels_update])\n",
    "    \n",
    "    # train a model with the new class and the critical data\n",
    "    critical_old_tmp = 0\n",
    "    critical_new_tmp = 0\n",
    "    critical_mixed_tmp = 0\n",
    "    critical_full_tmp = 0\n",
    "\n",
    "    for i in range(num_models):\n",
    "        X_train_critical, X_test_critical, y_train_critical, y_test_critical = skl.model_selection.train_test_split(critical_data,\n",
    "                                                                                                                    critical_data_labels,\n",
    "                                                                                                                    test_size=.2)\n",
    "\n",
    "        dtrain_critical = xgb.DMatrix(X_train_critical, label=y_train_critical)\n",
    "        dtest_critical = xgb.DMatrix(X_test_critical, label=y_test_critical)\n",
    "\n",
    "        # \"updating\" the model with the new class\n",
    "        bst_critical = xgb.train(param_update,\n",
    "                                  dtrain_critical,\n",
    "                                  num_round,\n",
    "                                  evals=evallist_update,\n",
    "                                  early_stopping_rounds=early_stopping_rounds,\n",
    "                                  verbose_eval=False,\n",
    "                                  xgb_model=model_folder/\"fewer_class_model.json\")\n",
    "\n",
    "        critical_old_tmp += skl.metrics.accuracy_score(np.argmax(bst_critical.predict(dtest_small), axis=1), y_test_small)\n",
    "        critical_new_tmp += skl.metrics.accuracy_score(np.argmax(bst_critical.predict(dtest_update), axis=1), y_test_update)\n",
    "        critical_mixed_tmp += skl.metrics.accuracy_score(np.argmax(bst_critical.predict(dtest_critical), axis=1), y_test_critical)\n",
    "        critical_full_tmp += skl.metrics.accuracy_score(np.argmax(bst_critical.predict(dtest_full), axis=1), y_test_full)\n",
    "    \n",
    "    critical_old.append(critical_old_tmp/num_models)\n",
    "    critical_new.append(critical_new_tmp/num_models)\n",
    "    critical_mixed.append(critical_mixed_tmp/num_models)\n",
    "    critical_full.append(critical_full_tmp/num_models)"
   ]
  },
  {
   "cell_type": "code",
   "execution_count": 16,
   "id": "5a0b81af-b9a5-4c4c-9359-36e149e41bf9",
   "metadata": {},
   "outputs": [
    {
     "name": "stdout",
     "output_type": "stream",
     "text": [
      "Current target proportion of old data in use: 0.1\n",
      "Current target proportion of old data in use: 0.2\n",
      "Current target proportion of old data in use: 0.30000000000000004\n",
      "Current target proportion of old data in use: 0.4\n",
      "Current target proportion of old data in use: 0.5\n",
      "Current target proportion of old data in use: 0.6000000000000001\n",
      "Current target proportion of old data in use: 0.7000000000000001\n",
      "Current target proportion of old data in use: 0.8\n",
      "Current target proportion of old data in use: 0.9\n"
     ]
    }
   ],
   "source": [
    "critical_old_weighted = []\n",
    "critical_new_weighted = []\n",
    "critical_mixed_weighted = []\n",
    "critical_full_weighted = []\n",
    "\n",
    "weights = data_selection.create_weights_from_fscores(data_small, bst_small.get_fscore())\n",
    "\n",
    "for proportion in proportion_of_old_data:\n",
    "    print(f\"Current target proportion of old data in use: {proportion}\")\n",
    "    \n",
    "    # get critical data\n",
    "    critical_data, critical_data_labels = data_selection.get_samples_euclidean(data_small,\n",
    "                                                                                  labels_small,\n",
    "                                                                                  data_update,\n",
    "                                                                                  ratio_return_total = proportion,\n",
    "                                                                                  normalization=\"min_max\",\n",
    "                                                                                  sort_type=\"closest\",\n",
    "                                                                                  weights=weights)\n",
    "    \n",
    "    # concatenate with data for new class\n",
    "    critical_data = pd.concat([critical_data, data_update])\n",
    "    critical_data_labels = pd.concat([critical_data_labels, labels_update])\n",
    "    \n",
    "    # train a model with the new class and the critical data\n",
    "    \n",
    "    critical_old_tmp = 0\n",
    "    critical_new_tmp = 0\n",
    "    critical_mixed_tmp = 0\n",
    "    critical_full_tmp = 0\n",
    "\n",
    "    for _ in range(num_models):\n",
    "        X_train_critical, X_test_critical, y_train_critical, y_test_critical = skl.model_selection.train_test_split(critical_data,\n",
    "                                                                                                                    critical_data_labels,\n",
    "                                                                                                                    test_size=.2)\n",
    "\n",
    "        dtrain_critical = xgb.DMatrix(X_train_critical, label=y_train_critical)\n",
    "        dtest_critical = xgb.DMatrix(X_test_critical, label=y_test_critical)\n",
    "\n",
    "        # \"updating\" the model with the new class\n",
    "        bst_critical = xgb.train(param_update,\n",
    "                                  dtrain_critical,\n",
    "                                  num_round,\n",
    "                                  evals=evallist_update,\n",
    "                                  early_stopping_rounds=early_stopping_rounds,\n",
    "                                  verbose_eval=False,\n",
    "                                  xgb_model=model_folder/\"fewer_class_model.json\")\n",
    "\n",
    "        critical_old_tmp += skl.metrics.accuracy_score(np.argmax(bst_critical.predict(dtest_small), axis=1), y_test_small)\n",
    "        critical_new_tmp += skl.metrics.accuracy_score(np.argmax(bst_critical.predict(dtest_update), axis=1), y_test_update)\n",
    "        critical_mixed_tmp += skl.metrics.accuracy_score(np.argmax(bst_critical.predict(dtest_critical), axis=1), y_test_critical)\n",
    "        critical_full_tmp += skl.metrics.accuracy_score(np.argmax(bst_critical.predict(dtest_full), axis=1), y_test_full)\n",
    "    \n",
    "    critical_old_weighted.append(critical_old_tmp/num_models)\n",
    "    critical_new_weighted.append(critical_new_tmp/num_models)\n",
    "    critical_mixed_weighted.append(critical_mixed_tmp/num_models)\n",
    "    critical_full_weighted.append(critical_full_tmp/num_models)"
   ]
  },
  {
   "cell_type": "code",
   "execution_count": 21,
   "id": "277fd985-d0bd-495c-a8dd-f1c33929dd58",
   "metadata": {},
   "outputs": [
    {
     "data": {
      "image/png": "[encoded data removed]",
      "text/plain": [
       "<Figure size 640x480 with 1 Axes>"
      ]
     },
     "metadata": {},
     "output_type": "display_data"
    }
   ],
   "source": [
    "fig = plt.figure()\n",
    "ax = plt.gca()\n",
    "ax.set_xlim([0, 1])\n",
    "ax.set_ylim([0.6, .8])\n",
    "plt.title(f\"Euclidean, minmax, train smallest class\")\n",
    "plt.plot(proportion_of_old_data, random_full, label=\"model updated with random data\")\n",
    "plt.plot(proportion_of_old_data, critical_full, label=\"model updated with critical data\")\n",
    "plt.plot(proportion_of_old_data, critical_full_weighted, label=\"model updated with critical data (weighted)\")\n",
    "\n",
    "plt.axhline(skl.metrics.accuracy_score(np.argmax(bst_full.predict(dtest_full), axis=1), y_test_full),\n",
    "            color = \"black\",\n",
    "            linestyle = \"--\",\n",
    "            label = \"batch training on full data\")\n",
    "plt.xlabel(\"Percentage of old data used in updating\")\n",
    "plt.ylabel(\"Accuracy\")\n",
    "plt.legend(loc=4)\n",
    "plt.savefig(f\"Euc, minmax, train smallest class.png\")\n",
    "plt.show();"
   ]
  },
  {
   "cell_type": "code",
   "execution_count": 18,
   "id": "b15b1c28",
   "metadata": {},
   "outputs": [
    {
     "data": {
      "text/plain": [
       "\"\\nimport _pickle as pickle\\n\\nwith open('all_critical_data.txt', 'wb') as file:\\n     file.write(pickle.dumps(all_critical_data)) # use `pickle.loads` to do the reverse\\n\\nwith open('all_critical_data_labels.txt', 'wb') as file:\\n     file.write(pickle.dumps(all_critical_data_labels)) # use `pickle.loads` to do the reverse\\n        \\nwith open('critical_old.txt', 'wb') as file:\\n     file.write(pickle.dumps(critical_old)) # use `pickle.loads` to do the reverse\\n        \\nwith open('critical_new.txt', 'wb') as file:\\n     file.write(pickle.dumps(critical_new)) # use `pickle.loads` to do the reverse\\n        \\nwith open('critical_mixed.txt', 'wb') as file:\\n     file.write(pickle.dumps(critical_mixed)) # use `pickle.loads` to do the reverse\\n        \\nwith open('critical_full.txt', 'wb') as file:\\n     file.write(pickle.dumps(critical_full)) # use `pickle.loads` to do the reverse\\n\""
      ]
     },
     "execution_count": 18,
     "metadata": {},
     "output_type": "execute_result"
    }
   ],
   "source": [
    "\"\"\"\n",
    "import _pickle as pickle\n",
    "\n",
    "with open('all_critical_data.txt', 'wb') as file:\n",
    "     file.write(pickle.dumps(all_critical_data)) # use `pickle.loads` to do the reverse\n",
    "\n",
    "with open('all_critical_data_labels.txt', 'wb') as file:\n",
    "     file.write(pickle.dumps(all_critical_data_labels)) # use `pickle.loads` to do the reverse\n",
    "        \n",
    "with open('critical_old.txt', 'wb') as file:\n",
    "     file.write(pickle.dumps(critical_old)) # use `pickle.loads` to do the reverse\n",
    "        \n",
    "with open('critical_new.txt', 'wb') as file:\n",
    "     file.write(pickle.dumps(critical_new)) # use `pickle.loads` to do the reverse\n",
    "        \n",
    "with open('critical_mixed.txt', 'wb') as file:\n",
    "     file.write(pickle.dumps(critical_mixed)) # use `pickle.loads` to do the reverse\n",
    "        \n",
    "with open('critical_full.txt', 'wb') as file:\n",
    "     file.write(pickle.dumps(critical_full)) # use `pickle.loads` to do the reverse\n",
    "\"\"\""
   ]
  },
  {
   "cell_type": "code",
   "execution_count": 19,
   "id": "38bc3f10",
   "metadata": {},
   "outputs": [
    {
     "data": {
      "text/plain": [
       "\"\\nwith open('all_critical_data.txt', 'rb') as file:\\n     test = pickle.loads(pickle.dumps(critical_old)) # use `pickle.loads` to do the reverse\\n\""
      ]
     },
     "execution_count": 19,
     "metadata": {},
     "output_type": "execute_result"
    }
   ],
   "source": [
    "\"\"\"\n",
    "with open('all_critical_data.txt', 'rb') as file:\n",
    "     test = pickle.loads(pickle.dumps(critical_old)) # use `pickle.loads` to do the reverse\n",
    "\"\"\""
   ]
  },
  {
   "cell_type": "code",
   "execution_count": null,
   "id": "c2310664-5441-478c-b380-185be5329589",
   "metadata": {},
   "outputs": [],
   "source": []
  }
 ],
 "metadata": {
  "kernelspec": {
   "display_name": "env_master",
   "language": "python",
   "name": "env_master"
  },
  "language_info": {
   "codemirror_mode": {
    "name": "ipython",
    "version": 3
   },
   "file_extension": ".py",
   "mimetype": "text/x-python",
   "name": "python",
   "nbconvert_exporter": "python",
   "pygments_lexer": "ipython3",
   "version": "3.10.6"
  }
 },
 "nbformat": 4,
 "nbformat_minor": 5
}
