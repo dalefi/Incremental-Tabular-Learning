{
 "cells": [
  {
   "cell_type": "code",
   "execution_count": 1,
   "id": "62b805c9-a6a5-4d49-9c28-12b3599887ca",
   "metadata": {},
   "outputs": [],
   "source": [
    "import sys\n",
    "sys.path.append(\"/home/dfischer/masterarbeit/src/\")\n",
    "\n",
    "from pathlib import Path\n",
    "import json\n",
    "\n",
    "import numpy as np\n",
    "import pandas as pd\n",
    "import xgboost as xgb\n",
    "import sklearn as skl\n",
    "import _pickle as pickle\n",
    "\n",
    "import lib.class_distributions as class_distributions\n",
    "import lib.data_selection as data_selection\n",
    "import lib.helper_funcs as helper_funcs\n",
    "import lib.json_manipulation as json_manipulation\n",
    "\n",
    "import dtreeviz\n",
    "import logging\n",
    "# to suppress messages when plotting trees\n",
    "logging.getLogger('matplotlib.font_manager').setLevel(level=logging.CRITICAL)\n",
    "import matplotlib.pyplot as plt\n",
    "\n",
    "%load_ext autoreload\n",
    "%autoreload 2"
   ]
  },
  {
   "cell_type": "code",
   "execution_count": 2,
   "id": "e1eb985d-9375-42ca-adf7-2decc72ad6da",
   "metadata": {},
   "outputs": [],
   "source": [
    "# open file\n",
    "\n",
    "data_folder = Path(\"../../data/ForestCoverDataset/\")\n",
    "model_folder = Path(\"../../models/ForestCoverDataset\")\n",
    "file_to_open = data_folder / \"covtype.data\""
   ]
  },
  {
   "cell_type": "code",
   "execution_count": 3,
   "id": "36e2a916-8d90-4524-ba8d-bdccd1f4077d",
   "metadata": {},
   "outputs": [],
   "source": [
    "# read and prepare data\n",
    "\n",
    "data = pd.read_csv(file_to_open, delimiter=\",\", header=None)\n",
    "\n",
    "# add the header manually\n",
    "header = {0: \"Elevation\", 1: \"Aspect\", 2: \"Slope\", 3: \"Horizontal_Distance_To_Hydrology\",\n",
    "          4: \"Vertical_Distance_To_Hydrology\", 5: \"Horizontal_Distance_To_Roadways\",\n",
    "          6: \"Hillshade_9am\", 7: \"Hillshade_Noon\", 8: \"Hillshade_3pm\", 9: \"Horizontal_Distance_To_Fire_Points\"}\n",
    "\n",
    "# try without all the onehot-encoded features\n",
    "\n",
    "\"\"\"\n",
    "# add the names of binary columns\n",
    "for i in range(1, 5):\n",
    "    header[9+i] = f\"Wilderness_Area_{i}\"\n",
    "\n",
    "for i in range(1, 41):\n",
    "    header[13+i] = f\"Soil_Type_{i}\"\n",
    "\"\"\"\n",
    "\n",
    "header[54] = \"Cover_Type\"\n",
    "\n",
    "data = data.drop(range(10,54), axis=1)\n",
    "\n",
    "data = data.rename(header, axis=1)\n",
    "\n",
    "# need feature matrix X and labels labels for xgboost\n",
    "labels = data[\"Cover_Type\"]\n",
    "labels = labels - 1   # want 0-based index\n",
    "X = data.drop([\"Cover_Type\"],axis=1,inplace=False)"
   ]
  },
  {
   "cell_type": "code",
   "execution_count": 4,
   "id": "940cdeed-f0a0-4138-9620-b726a36a1021",
   "metadata": {},
   "outputs": [
    {
     "data": {
      "text/plain": [
       "1    0.487599\n",
       "0    0.364605\n",
       "2    0.061537\n",
       "6    0.035300\n",
       "5    0.029891\n",
       "4    0.016339\n",
       "3    0.004728\n",
       "Name: Cover_Type, dtype: float64"
      ]
     },
     "execution_count": 4,
     "metadata": {},
     "output_type": "execute_result"
    }
   ],
   "source": [
    "class_distributions.label_proportions(labels)"
   ]
  },
  {
   "cell_type": "code",
   "execution_count": 5,
   "id": "3037d100-6f7b-4a80-a869-a26be5d19f26",
   "metadata": {},
   "outputs": [],
   "source": [
    "# prepare smaller dataset with only subset of classes\n",
    "\n",
    "old_classes = [0,1,3,4,5,6]\n",
    "new_class = 2\n",
    "\n",
    "# compute number of old labels used\n",
    "num_labels = len(old_classes)\n",
    "\n",
    "# relabel for XGBoost\n",
    "labels = helper_funcs.relabel(labels, old_classes, new_class)\n",
    "\n",
    "data_small = X[labels < num_labels]\n",
    "labels_small = labels[labels < num_labels]\n",
    "\n",
    "# attempt to retrain with new data\n",
    "data_update = X[labels == num_labels]\n",
    "labels_update = labels[labels == num_labels]\n",
    "\n",
    "# also train a model with all the data availale for comparison\n",
    "data_full = pd.concat([data_small, data_update])\n",
    "labels_full = pd.concat([labels_small, labels_update])"
   ]
  },
  {
   "cell_type": "code",
   "execution_count": 6,
   "id": "516d5f6c-b3c9-45c8-a15a-145047717ce9",
   "metadata": {},
   "outputs": [],
   "source": [
    "# split data into train- and test-data\n",
    "\n",
    "X_train_small, X_test_small, y_train_small, y_test_small = skl.model_selection.train_test_split(data_small, \n",
    "                                                    labels_small,\n",
    "                                                    test_size=.2)"
   ]
  },
  {
   "cell_type": "code",
   "execution_count": 7,
   "id": "604efb98-b0f9-45c7-a43d-a1bfbbc66b9a",
   "metadata": {},
   "outputs": [],
   "source": [
    "# specify DMatrices\n",
    "\n",
    "dtrain_small = xgb.DMatrix(X_train_small, label=y_train_small)\n",
    "dtest_small = xgb.DMatrix(X_test_small, label=y_test_small)\n",
    "\n",
    "# specify some parameters\n",
    "num_models = 1\n",
    "proportion_of_old_data = [i*0.1 for i in range(1,10)]\n",
    "\n",
    "# specify paramters for XGBoost\n",
    "num_round = 50\n",
    "early_stopping_rounds = num_round*.1\n",
    "max_depth = 3\n",
    "eta = .1\n",
    "\n",
    "param_small = {'max_depth': max_depth, 'eta': eta, 'objective': 'multi:softprob', \"num_class\": num_labels}\n",
    "param_small['nthread'] = 4\n",
    "param_small['eval_metric'] = 'mlogloss'\n",
    "\n",
    "evallist_small = [(dtrain_small, 'train'), (dtest_small, 'eval')]"
   ]
  },
  {
   "cell_type": "code",
   "execution_count": 8,
   "id": "77214802-7e0c-438b-9964-6b810a22676d",
   "metadata": {},
   "outputs": [
    {
     "name": "stdout",
     "output_type": "stream",
     "text": [
      "[0]\ttrain-mlogloss:1.64646\teval-mlogloss:1.64673\n",
      "[49]\ttrain-mlogloss:0.63313\teval-mlogloss:0.63631\n"
     ]
    }
   ],
   "source": [
    "# training model with fewer labels\n",
    "bst_small = xgb.train(param_small,\n",
    "                      dtrain_small,\n",
    "                      num_round,\n",
    "                      evals=evallist_small,\n",
    "                      early_stopping_rounds=early_stopping_rounds,\n",
    "                      verbose_eval=50)\n",
    "\n",
    "bst_small.save_model(fname='fewer_class_model.json')"
   ]
  },
  {
   "cell_type": "code",
   "execution_count": 9,
   "id": "d496947a-2166-4c9a-84a1-1e4c500b2d56",
   "metadata": {},
   "outputs": [
    {
     "name": "stdout",
     "output_type": "stream",
     "text": [
      "Accuracy on test data:  0.7346311851226938\n"
     ]
    }
   ],
   "source": [
    "print(\"Accuracy on test data: \", skl.metrics.accuracy_score(np.argmax(bst_small.predict(dtest_small), axis=1), y_test_small))"
   ]
  },
  {
   "cell_type": "code",
   "execution_count": 10,
   "id": "bc56fc5e-6f16-4bcd-ae87-d067f4c4ffe5",
   "metadata": {},
   "outputs": [],
   "source": [
    "# split data into train- and test-data\n",
    "\n",
    "X_train_update, X_test_update, y_train_update, y_test_update = skl.model_selection.train_test_split(data_update,\n",
    "                                                                                                    labels_update,\n",
    "                                                                                                    test_size=.2)\n",
    "\n",
    "X_train_full, X_test_full, y_train_full, y_test_full = skl.model_selection.train_test_split(data_full,\n",
    "                                                                                            labels_full,\n",
    "                                                                                            test_size=.2)"
   ]
  },
  {
   "cell_type": "code",
   "execution_count": 11,
   "id": "97776290-2ac3-4be1-b20f-ac188e6a106e",
   "metadata": {},
   "outputs": [],
   "source": [
    "# specify DMatrices\n",
    "\n",
    "dtrain_update = xgb.DMatrix(X_train_update, label=y_train_update)\n",
    "dtest_update = xgb.DMatrix(X_test_update, label=y_test_update)\n",
    "\n",
    "dtrain_full = xgb.DMatrix(X_train_full, label=y_train_full)\n",
    "dtest_full = xgb.DMatrix(X_test_full, label=y_test_full)\n",
    "\n",
    "\n",
    "# specify paramters for XGBoost\n",
    "param_update = {'max_depth': max_depth,\n",
    "                'eta': eta,\n",
    "                'objective': 'multi:softprob',\n",
    "                \"num_class\": num_labels+1}\n",
    "param_update['nthread'] = 4\n",
    "param_update['eval_metric'] = 'mlogloss'\n",
    "\n",
    "evallist_update = [(dtrain_update, 'train'), (dtest_update, 'eval')]\n",
    "\n",
    "\n",
    "param_full = {'max_depth': max_depth,\n",
    "              'eta': eta,\n",
    "              'objective': 'multi:softprob',\n",
    "              \"num_class\": num_labels+1}\n",
    "param_full['nthread'] = 4\n",
    "param_full['eval_metric'] = 'mlogloss'\n",
    "\n",
    "evallist_full = [(dtrain_full, 'train'), (dtest_full, 'eval')]"
   ]
  },
  {
   "cell_type": "code",
   "execution_count": 12,
   "id": "4979c75b-88d7-46d1-a85f-67eeacba874e",
   "metadata": {},
   "outputs": [
    {
     "name": "stdout",
     "output_type": "stream",
     "text": [
      "Accuracy on full data:  0.7140263160159376\n"
     ]
    }
   ],
   "source": [
    "_, old_data_part, _, old_y_part = skl.model_selection.train_test_split(data_small,\n",
    "                                                                        labels_small,\n",
    "                                                                        test_size=0.3)\n",
    "\n",
    "data_update2 = pd.concat([old_data_part, data_update])\n",
    "labels_update2 = pd.concat([old_y_part, labels_update])\n",
    "\n",
    "X_train_update2, X_test_update2, y_train_update2, y_test_update2 = skl.model_selection.train_test_split(data_update2,\n",
    "                                                                                                        labels_update2,\n",
    "                                                                                                        test_size=.2)\n",
    "\n",
    "# create DMatrices\n",
    "\n",
    "dtrain_update2 = xgb.DMatrix(X_train_update2, label=y_train_update2)\n",
    "dtest_update2 = xgb.DMatrix(X_test_update2, label=y_test_update2)\n",
    "\n",
    "# train model\n",
    "bst_update2 = xgb.train(param_update,\n",
    "                          dtrain_update2,\n",
    "                          num_round,\n",
    "                          evals=evallist_update,\n",
    "                          early_stopping_rounds=early_stopping_rounds,\n",
    "                          verbose_eval=False,\n",
    "                          xgb_model=\"fewer_class_model.json\")\n",
    "\n",
    "bst_update2.save_model(fname='updated_model.json')\n",
    "\n",
    "print(\"Accuracy on full data: \", skl.metrics.accuracy_score(np.argmax(bst_update2.predict(dtest_full), axis=1), y_test_full))"
   ]
  },
  {
   "cell_type": "code",
   "execution_count": 13,
   "id": "de0b7fcc-fcfb-4884-9478-79bf708f930d",
   "metadata": {},
   "outputs": [
    {
     "name": "stdout",
     "output_type": "stream",
     "text": [
      "Accuracy on test data:  0.5504849272394\n"
     ]
    }
   ],
   "source": [
    "bst_test = json_manipulation.create_modified_model(\"updated_model.json\", num_labels)\n",
    "print(\"Accuracy on test data: \", skl.metrics.accuracy_score(np.argmax(bst_test.predict(dtest_full), axis=1), y_test_full))"
   ]
  },
  {
   "cell_type": "code",
   "execution_count": null,
   "id": "65d6c9ac-9d0b-4e73-b21f-4f289706c95f",
   "metadata": {},
   "outputs": [],
   "source": []
  }
 ],
 "metadata": {
  "kernelspec": {
   "display_name": "env_master",
   "language": "python",
   "name": "env_master"
  },
  "language_info": {
   "codemirror_mode": {
    "name": "ipython",
    "version": 3
   },
   "file_extension": ".py",
   "mimetype": "text/x-python",
   "name": "python",
   "nbconvert_exporter": "python",
   "pygments_lexer": "ipython3",
   "version": "3.10.6"
  }
 },
 "nbformat": 4,
 "nbformat_minor": 5
}
