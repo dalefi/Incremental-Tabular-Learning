{
 "cells": [
  {
   "cell_type": "code",
   "execution_count": 2,
   "id": "800381c5-70d2-47b0-af06-63bfa7473a95",
   "metadata": {},
   "outputs": [],
   "source": [
    "import sklearn as skl\n",
    "from sklearn.metrics import f1_score\n",
    "import numpy as np"
   ]
  },
  {
   "cell_type": "code",
   "execution_count": 3,
   "id": "f3d24cd2-ed10-4502-b3ff-c4c30b3e1bc7",
   "metadata": {},
   "outputs": [],
   "source": [
    "# toy example of a model predicting only one class\n",
    "\n",
    "labels = np.concatenate((np.zeros(90), np.ones(5), 2*np.ones(5)))\n",
    "prediction = np.zeros(100)"
   ]
  },
  {
   "cell_type": "code",
   "execution_count": 4,
   "id": "54659327-b172-4403-8945-40bb8c224258",
   "metadata": {},
   "outputs": [
    {
     "data": {
      "text/plain": [
       "array([0.94736842, 0.        , 0.        ])"
      ]
     },
     "execution_count": 4,
     "metadata": {},
     "output_type": "execute_result"
    }
   ],
   "source": [
    "f1_score(labels, prediction, average=None)"
   ]
  },
  {
   "cell_type": "code",
   "execution_count": 8,
   "id": "96df724d-183a-45cf-ba09-039432673c5b",
   "metadata": {},
   "outputs": [
    {
     "data": {
      "text/plain": [
       "0.8526315789473685"
      ]
     },
     "execution_count": 8,
     "metadata": {},
     "output_type": "execute_result"
    }
   ],
   "source": [
    "f1_score(labels, prediction, average='weighted')"
   ]
  },
  {
   "cell_type": "code",
   "execution_count": 11,
   "id": "6ca892c1-3dcd-4ea0-9db0-5d8c0f0275a7",
   "metadata": {},
   "outputs": [
    {
     "data": {
      "text/plain": [
       "0.85257"
      ]
     },
     "execution_count": 11,
     "metadata": {},
     "output_type": "execute_result"
    }
   ],
   "source": [
    "0.9473*9/10"
   ]
  },
  {
   "cell_type": "code",
   "execution_count": null,
   "id": "af4409ba-2235-41a8-8e49-5e5d35af0188",
   "metadata": {},
   "outputs": [],
   "source": []
  }
 ],
 "metadata": {
  "kernelspec": {
   "display_name": "env_master",
   "language": "python",
   "name": "env_master"
  },
  "language_info": {
   "codemirror_mode": {
    "name": "ipython",
    "version": 3
   },
   "file_extension": ".py",
   "mimetype": "text/x-python",
   "name": "python",
   "nbconvert_exporter": "python",
   "pygments_lexer": "ipython3",
   "version": "3.8.10"
  }
 },
 "nbformat": 4,
 "nbformat_minor": 5
}
