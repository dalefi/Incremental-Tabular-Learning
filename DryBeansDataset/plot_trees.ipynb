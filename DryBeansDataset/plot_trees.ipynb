{
 "cells": [
  {
   "cell_type": "code",
   "execution_count": 1,
   "id": "4b1c1850",
   "metadata": {},
   "outputs": [],
   "source": [
    "import numpy as np\n",
    "import pandas as pd\n",
    "import xgboost as xgb\n",
    "xgb.set_config(verbosity=0)\n",
    "import sklearn as skl\n",
    "import matplotlib.pyplot as plt\n",
    "\n",
    "from pathlib import Path"
   ]
  },
  {
   "cell_type": "code",
   "execution_count": null,
   "id": "00dd686b",
   "metadata": {},
   "outputs": [],
   "source": [
    "xgb.plot_tree(bst, num_trees=0)\n",
    "plt.gcf().set_size_inches(5, 3)\n",
    "plt.savefig(\"temp.pdf\")\n",
    "plt.show()\n",
    "\n",
    "xgb.plot_tree(bst, num_trees=3)\n",
    "plt.gcf().set_size_inches(5, 3)\n",
    "plt.savefig(\"temp.pdf\")\n",
    "plt.show()"
   ]
  }
 ],
 "metadata": {
  "kernelspec": {
   "display_name": "env_master",
   "language": "python",
   "name": "env_master"
  },
  "language_info": {
   "codemirror_mode": {
    "name": "ipython",
    "version": 3
   },
   "file_extension": ".py",
   "mimetype": "text/x-python",
   "name": "python",
   "nbconvert_exporter": "python",
   "pygments_lexer": "ipython3",
   "version": "3.10.6"
  }
 },
 "nbformat": 4,
 "nbformat_minor": 5
}
