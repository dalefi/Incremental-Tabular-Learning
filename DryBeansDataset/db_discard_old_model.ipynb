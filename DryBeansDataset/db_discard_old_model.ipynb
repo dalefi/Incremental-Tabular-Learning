{
 "cells": [
  {
   "cell_type": "code",
   "execution_count": 1,
   "id": "14c5a472-fd1d-475a-be23-bdf42baa3859",
   "metadata": {},
   "outputs": [],
   "source": [
    "import sys\n",
    "sys.path.append(\"/home/dfischer/masterarbeit/src/\")\n",
    "\n",
    "from pathlib import Path\n",
    "import json\n",
    "\n",
    "import numpy as np\n",
    "import pandas as pd\n",
    "import xgboost as xgb\n",
    "import sklearn as skl\n",
    "import _pickle as pickle\n",
    "\n",
    "import lib.class_distributions as class_distributions\n",
    "import lib.data_selection as data_selection\n",
    "import lib.helper_funcs as helper_funcs\n",
    "import lib.json_manipulation as json_manipulation\n",
    "\n",
    "import dtreeviz\n",
    "import logging\n",
    "# to suppress messages when plotting trees\n",
    "logging.getLogger('matplotlib.font_manager').setLevel(level=logging.CRITICAL)\n",
    "import matplotlib.pyplot as plt\n",
    "\n",
    "%load_ext autoreload\n",
    "%autoreload 2"
   ]
  },
  {
   "cell_type": "code",
   "execution_count": 2,
   "id": "10ef01b2-d566-4e75-bd4b-ad30d6247ff1",
   "metadata": {},
   "outputs": [],
   "source": [
    "# open file\n",
    "\n",
    "data_folder = Path(\"../../data/DryBeanDataset/\")\n",
    "model_folder = Path(\"../../models/DryBeanDataset\")\n",
    "file_to_open = data_folder / \"Dry_Bean_Dataset.xlsx\""
   ]
  },
  {
   "cell_type": "code",
   "execution_count": 3,
   "id": "58c0fb68-2c96-4f47-a1ee-1dc6c58d2c6f",
   "metadata": {},
   "outputs": [],
   "source": [
    "# read and prepare data\n",
    "\n",
    "data = pd.read_excel(file_to_open)\n",
    "\n",
    "labels_dict = {key:value for (value,key) in enumerate(data[\"Class\"].unique())}\n",
    "data[\"Class\"] = data[\"Class\"].map(labels_dict)\n",
    "#data.Class.astype(\"category\").cat.codes\n",
    "\n",
    "# need feature matrix X and labels labels for xgboost\n",
    "labels = data[\"Class\"]\n",
    "X = data.drop([\"Class\"],axis=1,inplace=False)"
   ]
  },
  {
   "cell_type": "code",
   "execution_count": 4,
   "id": "a9e7d4ec-0d35-4550-8c8e-731ee67419b0",
   "metadata": {},
   "outputs": [],
   "source": [
    "# prepare smaller dataset with only first num_labels classes of beans\n",
    "\n",
    "old_classes = [0,1,3,4,5,6]\n",
    "new_class = 2\n",
    "\n",
    "# compute number of old labels used\n",
    "num_labels = len(old_classes)\n",
    "\n",
    "# relabel for XGBoost\n",
    "labels = helper_funcs.relabel(labels, old_classes, new_class)\n",
    "\n",
    "data_small = X[labels < num_labels]\n",
    "labels_small = labels[labels < num_labels]\n",
    "\n",
    "# attempt to retrain with new data\n",
    "data_update = X[labels == num_labels]\n",
    "labels_update = labels[labels == num_labels]\n",
    "\n",
    "# also train a model with all the data availale for comparison\n",
    "data_full = pd.concat([data_small, data_update])\n",
    "labels_full = pd.concat([labels_small, labels_update])"
   ]
  },
  {
   "cell_type": "code",
   "execution_count": 5,
   "id": "86d6c7b2-a782-4568-9b93-93ea408bb98b",
   "metadata": {},
   "outputs": [],
   "source": [
    "# split data into train- and test-data\n",
    "\n",
    "X_train_small, X_test_small, y_train_small, y_test_small = skl.model_selection.train_test_split(data_small, \n",
    "                                                    labels_small,\n",
    "                                                    test_size=.2)"
   ]
  },
  {
   "cell_type": "code",
   "execution_count": 6,
   "id": "f07e9ee6-db85-4551-965d-8b4bc1fbde9a",
   "metadata": {},
   "outputs": [],
   "source": [
    "# specify DMatrices\n",
    "\n",
    "dtrain_small = xgb.DMatrix(X_train_small, label=y_train_small)\n",
    "dtest_small = xgb.DMatrix(X_test_small, label=y_test_small)\n",
    "\n",
    "# specify some parameters\n",
    "num_models = 10\n",
    "proportion_of_old_data = [i*0.1 for i in range(1,10)]\n",
    "\n",
    "# specify paramters for XGBoost\n",
    "num_round = 1000\n",
    "early_stopping_rounds = num_round*.1\n",
    "max_depth = 3\n",
    "eta = .1\n",
    "\n",
    "param_small = {'max_depth': max_depth, 'eta': eta, 'objective': 'multi:softprob', \"num_class\": num_labels}\n",
    "param_small['nthread'] = 4\n",
    "param_small['eval_metric'] = 'mlogloss'\n",
    "\n",
    "evallist_small = [(dtrain_small, 'train'), (dtest_small, 'eval')]"
   ]
  },
  {
   "cell_type": "code",
   "execution_count": 8,
   "id": "d78b2bcc-3a95-4e0b-b339-a6ae8e12d45c",
   "metadata": {},
   "outputs": [],
   "source": [
    "# training model with fewer labels\n",
    "bst_small = xgb.train(param_small,\n",
    "                      dtrain_small,\n",
    "                      num_round,\n",
    "                      evals=evallist_small,\n",
    "                      early_stopping_rounds=early_stopping_rounds,\n",
    "                      verbose_eval=False)\n",
    "\n",
    "bst_small.save_model('fewer_class_model.json')"
   ]
  },
  {
   "cell_type": "code",
   "execution_count": 9,
   "id": "a4c5b17f-db0a-44ff-96fd-8e798167af52",
   "metadata": {},
   "outputs": [
    {
     "name": "stdout",
     "output_type": "stream",
     "text": [
      "Accuracy on test data:  0.9194041252864782\n"
     ]
    }
   ],
   "source": [
    "print(\"Accuracy on test data: \", skl.metrics.accuracy_score(np.argmax(bst_small.predict(dtest_small), axis=1), y_test_small))"
   ]
  },
  {
   "cell_type": "code",
   "execution_count": 10,
   "id": "bef5bf00-07d2-40d7-81db-9e27187d6c7f",
   "metadata": {},
   "outputs": [],
   "source": [
    "# split data into train- and test-data\n",
    "\n",
    "X_train_update, X_test_update, y_train_update, y_test_update = skl.model_selection.train_test_split(data_update,\n",
    "                                                                                                    labels_update,\n",
    "                                                                                                    test_size=.2)\n",
    "\n",
    "X_train_full, X_test_full, y_train_full, y_test_full = skl.model_selection.train_test_split(data_full,\n",
    "                                                                                            labels_full,\n",
    "                                                                                            test_size=.2)"
   ]
  },
  {
   "cell_type": "code",
   "execution_count": 11,
   "id": "1311fe64-6eb5-48d6-9af4-b9d0603ef418",
   "metadata": {},
   "outputs": [],
   "source": [
    "# specify DMatrices\n",
    "\n",
    "dtrain_update = xgb.DMatrix(X_train_update, label=y_train_update)\n",
    "dtest_update = xgb.DMatrix(X_test_update, label=y_test_update)\n",
    "\n",
    "dtrain_full = xgb.DMatrix(X_train_full, label=y_train_full)\n",
    "dtest_full = xgb.DMatrix(X_test_full, label=y_test_full)\n",
    "\n",
    "\n",
    "# specify paramters for XGBoost\n",
    "param_update = {'max_depth': max_depth,\n",
    "                'eta': eta,\n",
    "                'objective': 'multi:softprob',\n",
    "                \"num_class\": num_labels+1}\n",
    "param_update['nthread'] = 4\n",
    "param_update['eval_metric'] = 'mlogloss'\n",
    "\n",
    "evallist_update = [(dtrain_update, 'train'), (dtest_update, 'eval')]\n",
    "\n",
    "\n",
    "param_full = {'max_depth': max_depth,\n",
    "              'eta': eta,\n",
    "              'objective': 'multi:softprob',\n",
    "              \"num_class\": num_labels+1}\n",
    "param_full['nthread'] = 4\n",
    "param_full['eval_metric'] = 'mlogloss'\n",
    "\n",
    "evallist_full = [(dtrain_full, 'train'), (dtest_full, 'eval')]"
   ]
  },
  {
   "cell_type": "code",
   "execution_count": 12,
   "id": "86e08330-51c1-4c98-9ed7-3dc5cd16f49a",
   "metadata": {},
   "outputs": [
    {
     "name": "stdout",
     "output_type": "stream",
     "text": [
      "Accuracy on full data:  0.9489533602644142\n"
     ]
    }
   ],
   "source": [
    "_, old_data_part, _, old_y_part = skl.model_selection.train_test_split(data_small,\n",
    "                                                                        labels_small,\n",
    "                                                                        test_size=0.3)\n",
    "\n",
    "data_update2 = pd.concat([old_data_part, data_update])\n",
    "labels_update2 = pd.concat([old_y_part, labels_update])\n",
    "\n",
    "X_train_update2, X_test_update2, y_train_update2, y_test_update2 = skl.model_selection.train_test_split(data_update2,\n",
    "                                                                                                        labels_update2,\n",
    "                                                                                                        test_size=.2)\n",
    "\n",
    "# create DMatrices\n",
    "\n",
    "dtrain_update2 = xgb.DMatrix(X_train_update2, label=y_train_update2)\n",
    "dtest_update2 = xgb.DMatrix(X_test_update2, label=y_test_update2)\n",
    "\n",
    "# train model\n",
    "bst_update2 = xgb.train(param_update,\n",
    "                          dtrain_update2,\n",
    "                          num_round,\n",
    "                          evals=evallist_update,\n",
    "                          early_stopping_rounds=early_stopping_rounds,\n",
    "                          verbose_eval=False,\n",
    "                          xgb_model=\"fewer_class_model.json\")\n",
    "\n",
    "bst_update2.save_model(fname='updated_model.json')\n",
    "\n",
    "print(\"Accuracy on full data: \", skl.metrics.accuracy_score(np.argmax(bst_update2.predict(dtest_full), axis=1), y_test_full))"
   ]
  },
  {
   "cell_type": "code",
   "execution_count": 13,
   "id": "0edc7379-0f9f-4b9a-8a90-4ee80fe64e16",
   "metadata": {},
   "outputs": [
    {
     "name": "stdout",
     "output_type": "stream",
     "text": [
      "Accuracy on test data:  0.7462357693720162\n"
     ]
    }
   ],
   "source": [
    "bst_test = json_manipulation.create_modified_model(\"updated_model.json\", num_labels)\n",
    "print(\"Accuracy on test data: \", skl.metrics.accuracy_score(np.argmax(bst_test.predict(dtest_full), axis=1), y_test_full))"
   ]
  },
  {
   "cell_type": "code",
   "execution_count": null,
   "id": "d0709836-cac1-4c90-92cd-786f828bedb6",
   "metadata": {},
   "outputs": [],
   "source": []
  }
 ],
 "metadata": {
  "kernelspec": {
   "display_name": "env_master",
   "language": "python",
   "name": "env_master"
  },
  "language_info": {
   "codemirror_mode": {
    "name": "ipython",
    "version": 3
   },
   "file_extension": ".py",
   "mimetype": "text/x-python",
   "name": "python",
   "nbconvert_exporter": "python",
   "pygments_lexer": "ipython3",
   "version": "3.10.6"
  }
 },
 "nbformat": 4,
 "nbformat_minor": 5
}
