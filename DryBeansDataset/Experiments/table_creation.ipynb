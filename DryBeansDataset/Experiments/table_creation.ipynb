{
 "cells": [
  {
   "cell_type": "code",
   "execution_count": 53,
   "id": "ba9d3979-3b93-47af-b388-4f128c9317aa",
   "metadata": {},
   "outputs": [
    {
     "name": "stdout",
     "output_type": "stream",
     "text": [
      "The autoreload extension is already loaded. To reload it, use:\n",
      "  %reload_ext autoreload\n"
     ]
    }
   ],
   "source": [
    "from pathlib import Path\n",
    "\n",
    "import numpy as np\n",
    "import pandas as pd\n",
    "import xgboost as xgb\n",
    "import sklearn as skl\n",
    "\n",
    "import operator\n",
    "import tabulate\n",
    "\n",
    "from mylib import class_distributions\n",
    "from mylib import data_selection\n",
    "from mylib import helper_funcs\n",
    "\n",
    "import matplotlib.pyplot as plt\n",
    "\n",
    "import warnings\n",
    "warnings.filterwarnings(\"ignore\")\n",
    "\n",
    "%load_ext autoreload\n",
    "%autoreload 2"
   ]
  },
  {
   "cell_type": "code",
   "execution_count": 3,
   "id": "8aee3342-6155-4ede-9b77-daea8a625e6f",
   "metadata": {},
   "outputs": [],
   "source": [
    "# open file\n",
    "\n",
    "data_folder = Path(\"../../../data/DryBeanDataset/\")\n",
    "file_to_open = data_folder / \"Dry_Bean_Dataset.xlsx\""
   ]
  },
  {
   "cell_type": "code",
   "execution_count": 4,
   "id": "c41364ff-62e5-4ef0-a920-511e780b2a29",
   "metadata": {},
   "outputs": [],
   "source": [
    "# read and prepare data\n",
    "\n",
    "data = pd.read_excel(file_to_open)\n",
    "\n",
    "labels_dict = {key:value for (value,key) in enumerate(data[\"Class\"].unique())}\n",
    "data[\"Class\"] = data[\"Class\"].map(labels_dict)\n",
    "#data.Class.astype(\"category\").cat.codes\n",
    "\n",
    "# need feature matrix X and labels labels for xgboost\n",
    "labels = data[\"Class\"]\n",
    "X = data.drop([\"Class\"],axis=1,inplace=False)"
   ]
  },
  {
   "cell_type": "code",
   "execution_count": 5,
   "id": "7f7531ed-0c6b-42ad-b824-80d4dba17bd9",
   "metadata": {},
   "outputs": [
    {
     "name": "stdout",
     "output_type": "stream",
     "text": [
      "6    0.260525\n",
      "5    0.193667\n",
      "0    0.148924\n",
      "4    0.141650\n",
      "3    0.119756\n",
      "1    0.097127\n",
      "2    0.038351\n",
      "Name: Class, dtype: float64\n"
     ]
    }
   ],
   "source": [
    "label_proportions = class_distributions.label_proportions(labels)\n",
    "print(label_proportions)\n",
    "\n",
    "largest_class_label = max(label_proportions.items(), key=operator.itemgetter(1))[0]\n",
    "smallest_class_label = min(label_proportions.items(), key=operator.itemgetter(1))[0]"
   ]
  },
  {
   "cell_type": "code",
   "execution_count": 29,
   "id": "fa1e8298-5cc6-41d3-b791-117796c547a9",
   "metadata": {},
   "outputs": [],
   "source": [
    "results = []\n",
    "\n",
    "training_method = 'continued_training'\n",
    "sort_type = 'closest'\n",
    "largest_or_smallest_class = 'largest class'\n",
    "\n",
    "for data_selection_method in ['split_criterion', 'dist_to_mean', 'nearest_neighbors', 'entropy']:\n",
    "    experiment_results = helper_funcs.unpack_results(training_method, data_selection_method, sort_type, largest_or_smallest_class)\n",
    "    full_data_mean = experiment_results['full_data_mean'][10]\n",
    "    results.append(full_data_mean)\n",
    "\n",
    "experiment_results = helper_funcs.unpack_results(training_method, 'random', sort_type, largest_or_smallest_class)\n",
    "full_data_mean = experiment_results['full_data_mean'][10]\n",
    "results.append(full_data_mean)"
   ]
  },
  {
   "cell_type": "code",
   "execution_count": 30,
   "id": "47b1378d-9c8a-4065-8ab2-9212153b6f35",
   "metadata": {},
   "outputs": [],
   "source": [
    "results_df = pd.DataFrame(results)\n",
    "results_df = results_df*100"
   ]
  },
  {
   "cell_type": "code",
   "execution_count": 50,
   "id": "70e6936b-bfbc-4929-807e-a36626afeeca",
   "metadata": {},
   "outputs": [],
   "source": [
    "index_names = ['split-criterion', 'dist-to-mean', 'nearest-neighbors', 'entropy', 'random']\n",
    "header = [f'{10*i}%' for i in range(1,10)]\n",
    "results_df.columns = header\n",
    "results_df.index = index_names"
   ]
  },
  {
   "cell_type": "code",
   "execution_count": 51,
   "id": "d9bb710c-4083-47ee-93e4-92d7d9bfa6e4",
   "metadata": {},
   "outputs": [
    {
     "data": {
      "text/html": [
       "<div>\n",
       "<style scoped>\n",
       "    .dataframe tbody tr th:only-of-type {\n",
       "        vertical-align: middle;\n",
       "    }\n",
       "\n",
       "    .dataframe tbody tr th {\n",
       "        vertical-align: top;\n",
       "    }\n",
       "\n",
       "    .dataframe thead th {\n",
       "        text-align: right;\n",
       "    }\n",
       "</style>\n",
       "<table border=\"1\" class=\"dataframe\">\n",
       "  <thead>\n",
       "    <tr style=\"text-align: right;\">\n",
       "      <th></th>\n",
       "      <th>10%</th>\n",
       "      <th>20%</th>\n",
       "      <th>30%</th>\n",
       "      <th>40%</th>\n",
       "      <th>50%</th>\n",
       "      <th>60%</th>\n",
       "      <th>70%</th>\n",
       "      <th>80%</th>\n",
       "      <th>90%</th>\n",
       "    </tr>\n",
       "  </thead>\n",
       "  <tbody>\n",
       "    <tr>\n",
       "      <th>split-criterion</th>\n",
       "      <td>78.672397</td>\n",
       "      <td>86.444787</td>\n",
       "      <td>89.613548</td>\n",
       "      <td>90.413636</td>\n",
       "      <td>90.800088</td>\n",
       "      <td>91.572258</td>\n",
       "      <td>92.012343</td>\n",
       "      <td>92.036588</td>\n",
       "      <td>92.046874</td>\n",
       "    </tr>\n",
       "    <tr>\n",
       "      <th>dist-to-mean</th>\n",
       "      <td>87.046507</td>\n",
       "      <td>90.608331</td>\n",
       "      <td>90.869885</td>\n",
       "      <td>90.931599</td>\n",
       "      <td>91.019763</td>\n",
       "      <td>91.193887</td>\n",
       "      <td>91.581809</td>\n",
       "      <td>91.679524</td>\n",
       "      <td>91.876423</td>\n",
       "    </tr>\n",
       "    <tr>\n",
       "      <th>nearest-neighbors</th>\n",
       "      <td>85.158328</td>\n",
       "      <td>87.835574</td>\n",
       "      <td>89.364485</td>\n",
       "      <td>90.340166</td>\n",
       "      <td>90.822129</td>\n",
       "      <td>91.094703</td>\n",
       "      <td>91.010947</td>\n",
       "      <td>91.080009</td>\n",
       "      <td>90.771435</td>\n",
       "    </tr>\n",
       "    <tr>\n",
       "      <th>entropy</th>\n",
       "      <td>89.224892</td>\n",
       "      <td>89.327015</td>\n",
       "      <td>91.202704</td>\n",
       "      <td>91.634707</td>\n",
       "      <td>91.980751</td>\n",
       "      <td>92.096099</td>\n",
       "      <td>92.263610</td>\n",
       "      <td>92.186467</td>\n",
       "      <td>92.116670</td>\n",
       "    </tr>\n",
       "    <tr>\n",
       "      <th>random</th>\n",
       "      <td>89.457057</td>\n",
       "      <td>90.744986</td>\n",
       "      <td>91.836750</td>\n",
       "      <td>92.124752</td>\n",
       "      <td>92.168834</td>\n",
       "      <td>92.184997</td>\n",
       "      <td>92.221732</td>\n",
       "      <td>92.235692</td>\n",
       "      <td>92.159283</td>\n",
       "    </tr>\n",
       "  </tbody>\n",
       "</table>\n",
       "</div>"
      ],
      "text/plain": [
       "                         10%        20%        30%        40%        50%  \\\n",
       "split-criterion    78.672397  86.444787  89.613548  90.413636  90.800088   \n",
       "dist-to-mean       87.046507  90.608331  90.869885  90.931599  91.019763   \n",
       "nearest-neighbors  85.158328  87.835574  89.364485  90.340166  90.822129   \n",
       "entropy            89.224892  89.327015  91.202704  91.634707  91.980751   \n",
       "random             89.457057  90.744986  91.836750  92.124752  92.168834   \n",
       "\n",
       "                         60%        70%        80%        90%  \n",
       "split-criterion    91.572258  92.012343  92.036588  92.046874  \n",
       "dist-to-mean       91.193887  91.581809  91.679524  91.876423  \n",
       "nearest-neighbors  91.094703  91.010947  91.080009  90.771435  \n",
       "entropy            92.096099  92.263610  92.186467  92.116670  \n",
       "random             92.184997  92.221732  92.235692  92.159283  "
      ]
     },
     "execution_count": 51,
     "metadata": {},
     "output_type": "execute_result"
    }
   ],
   "source": [
    "results_df"
   ]
  },
  {
   "cell_type": "code",
   "execution_count": 55,
   "id": "07f2a8ab-7b80-40ba-bf41-fc1c6de5f0ba",
   "metadata": {},
   "outputs": [],
   "source": [
    "tex_table = results_df.to_latex(formatters={\"name\": str.upper},\n",
    "                    float_format=\"{:.2f}\".format,\n",
    "                  )\n",
    "\n",
    "with open(\"tex_table.txt\", \"w\") as text_file:\n",
    "    print(f\"{tex_table}\", file=text_file)"
   ]
  },
  {
   "cell_type": "code",
   "execution_count": null,
   "id": "5e45c154-65c4-4e51-8b0b-9eba6b341f65",
   "metadata": {},
   "outputs": [],
   "source": []
  },
  {
   "cell_type": "code",
   "execution_count": 11,
   "id": "32e1ae44-4ce0-4c95-99d9-f7b9d569f838",
   "metadata": {},
   "outputs": [],
   "source": [
    "old_data_mean = results['old_data_mean']\n",
    "old_data_std = results['old_data_std']\n",
    "new_data_mean = results['new_data_mean']\n",
    "new_data_std = results['new_data_std']\n",
    "update_data_mean = results['update_data_mean']\n",
    "update_data_std = results['update_data_std']\n",
    "full_data_mean = results['full_data_mean']\n",
    "full_data_std = results['full_data_std']"
   ]
  },
  {
   "cell_type": "code",
   "execution_count": 26,
   "id": "58743110-3bb8-43c8-b923-ad5a913e73a5",
   "metadata": {},
   "outputs": [],
   "source": [
    "test = [[1,2,3],[2,3,4],[3,4,5]]\n",
    "headers = ['a', 'b', 'c']"
   ]
  },
  {
   "cell_type": "code",
   "execution_count": 17,
   "id": "29528631-608f-4be6-90ea-14904dff1e6d",
   "metadata": {},
   "outputs": [
    {
     "name": "stderr",
     "output_type": "stream",
     "text": [
      "/tmp/ipykernel_890/2525923596.py:6: FutureWarning: In future versions `DataFrame.to_latex` is expected to utilise the base implementation of `Styler.to_latex` for formatting and rendering. The arguments signature may therefore change. It is recommended instead to use `DataFrame.style.to_latex` which also contains additional functionality.\n",
      "  tex_table = df.to_latex(index=False,\n"
     ]
    }
   ],
   "source": [
    "df = pd.DataFrame(dict(name=['Raphael', 'Donatello'],\n",
    "                           age=[26, 45],\n",
    "                           height=[181.23, 177.65]))\n",
    "\n",
    "\n",
    "tex_table = df.to_latex(index=False,\n",
    "                      formatters={\"name\": str.upper},\n",
    "                      float_format=\"{:.1f}\".format\n",
    "                  )"
   ]
  },
  {
   "cell_type": "code",
   "execution_count": 18,
   "id": "454f93e9-ddcf-437b-8f79-dde9c996007c",
   "metadata": {},
   "outputs": [
    {
     "name": "stdout",
     "output_type": "stream",
     "text": [
      "\\begin{tabular}{lrr}\n",
      "\\toprule\n",
      "     name &  age &  height \\\\\n",
      "\\midrule\n",
      "  RAPHAEL &   26 &   181.2 \\\\\n",
      "DONATELLO &   45 &   177.7 \\\\\n",
      "\\bottomrule\n",
      "\\end{tabular}\n",
      "\n"
     ]
    }
   ],
   "source": [
    "print(tex_table)"
   ]
  },
  {
   "cell_type": "code",
   "execution_count": 19,
   "id": "ec3397cb-1e85-4dd6-b8be-292de99b301d",
   "metadata": {},
   "outputs": [],
   "source": [
    "with open(\"Output.txt\", \"w\") as text_file:\n",
    "    print(f\"{tex_table}\", file=text_file)"
   ]
  },
  {
   "cell_type": "code",
   "execution_count": null,
   "id": "2c7e95d2-0e3b-4706-9b65-4588aae81067",
   "metadata": {},
   "outputs": [],
   "source": []
  }
 ],
 "metadata": {
  "kernelspec": {
   "display_name": "env_master",
   "language": "python",
   "name": "env_master"
  },
  "language_info": {
   "codemirror_mode": {
    "name": "ipython",
    "version": 3
   },
   "file_extension": ".py",
   "mimetype": "text/x-python",
   "name": "python",
   "nbconvert_exporter": "python",
   "pygments_lexer": "ipython3",
   "version": "3.10.12"
  }
 },
 "nbformat": 4,
 "nbformat_minor": 5
}
