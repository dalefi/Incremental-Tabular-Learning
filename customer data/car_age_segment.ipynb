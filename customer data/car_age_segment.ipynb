{
 "cells": [
  {
   "cell_type": "code",
   "execution_count": 1,
   "id": "b7efc7f5-9297-4f19-a0e1-26b81705f8d8",
   "metadata": {},
   "outputs": [],
   "source": [
    "from pathlib import Path\n",
    "\n",
    "import numpy as np\n",
    "import pandas as pd\n",
    "import xgboost as xgb\n",
    "import sklearn as skl\n",
    "import _pickle as pickle\n",
    "\n",
    "from mylib import class_distributions\n",
    "from mylib import data_selection\n",
    "from mylib import helper_funcs\n",
    "from mylib.db import preprocessing\n",
    "from mylib.db import constants\n",
    "\n",
    "import dtreeviz\n",
    "import logging\n",
    "# to suppress messages when plotting trees\n",
    "logging.getLogger('matplotlib.font_manager').setLevel(level=logging.CRITICAL)\n",
    "import matplotlib.pyplot as plt\n",
    "\n",
    "%load_ext autoreload\n",
    "%autoreload 2"
   ]
  },
  {
   "cell_type": "code",
   "execution_count": 2,
   "id": "ae418efa-a811-4857-bdd9-b7c383e7da54",
   "metadata": {},
   "outputs": [
    {
     "name": "stdout",
     "output_type": "stream",
     "text": [
      "Preprocessing successful.\n"
     ]
    }
   ],
   "source": [
    "from_date = \"2022-06-01\"\n",
    "to_date = \"2022-06-30\"\n",
    "n = 100000\n",
    "\n",
    "car_df_unprocessed = preprocessing.Preprocessor(from_date, to_date, limit=n, verbose=False,\n",
    "                                               remove_cat_columns = False, normalization = False)"
   ]
  },
  {
   "cell_type": "code",
   "execution_count": 3,
   "id": "7637f7a3-bf14-43c7-9c5a-897a5108653a",
   "metadata": {},
   "outputs": [
    {
     "name": "stdout",
     "output_type": "stream",
     "text": [
      "Removing column 'age_segment'\n",
      "Removing column 'region_type'\n",
      "Removing column 'emp_liable'\n",
      "Removing column 'hou_fam_structure'\n",
      "Removing column 'hou_aff_new_products'\n",
      "Removing column 'hou_aff_prices'\n",
      "Removing column 'subs_hand_ind'\n",
      "Removing column 'bnt_vvl_lng'\n",
      "Removing column 'article_status_enc'\n",
      "Removing column 'tech_generation'\n",
      "Removing column 'known_article'\n",
      "Removing column 'equal_to_recently_sold'\n",
      "(99693, 151)\n",
      "(99693,)\n"
     ]
    }
   ],
   "source": [
    "# first capture the column to be predicted\n",
    "labels = car_df_unprocessed.car_df[\"age_segment\"]\n",
    "\n",
    "# now remove all categorical columns and normalize\n",
    "car_df_unprocessed.remove_columns(constants.CATEGORICAL_COLUMNS)\n",
    "car_df_unprocessed.normalize()\n",
    "X = car_df_unprocessed.car_df\n",
    "\n",
    "print(X.shape)\n",
    "print(labels.shape)"
   ]
  },
  {
   "cell_type": "code",
   "execution_count": 4,
   "id": "3b602a0e-2c5f-4aba-898c-acc11cf4fcf4",
   "metadata": {},
   "outputs": [],
   "source": [
    "# need to drop unknown or missing values\n",
    "nan_index = labels[np.isnan(labels)].index\n",
    "unknown_index = labels[labels == -1].index\n",
    "\n",
    "labels = labels.drop(nan_index)\n",
    "labels = labels.drop(unknown_index)\n",
    "X = X.drop(nan_index)\n",
    "X = X.drop(unknown_index)\n",
    "\n",
    "assert (labels.index == X.index).all()\n",
    "\n",
    "# manipulate values to suit XGBoost\n",
    "labels = pd.Series((labels//10)-1)"
   ]
  },
  {
   "cell_type": "code",
   "execution_count": 5,
   "id": "45d8cb51-3135-4060-bcfc-3338706ca620",
   "metadata": {},
   "outputs": [],
   "source": [
    "# need to drop columns that describe age if we want to predict age_segment\n",
    "\n",
    "X.drop(['year_of_birth', 'avg_canc_age_segment'], axis=1, inplace=True)"
   ]
  },
  {
   "cell_type": "code",
   "execution_count": 6,
   "id": "fa80757a-32d1-4c7c-bb4f-3739dd8a1c8d",
   "metadata": {},
   "outputs": [
    {
     "data": {
      "text/plain": [
       "4    0.217170\n",
       "3    0.191002\n",
       "2    0.184671\n",
       "1    0.154560\n",
       "5    0.134912\n",
       "6    0.068244\n",
       "7    0.042054\n",
       "0    0.007388\n",
       "Name: age_segment, dtype: float64"
      ]
     },
     "execution_count": 6,
     "metadata": {},
     "output_type": "execute_result"
    }
   ],
   "source": [
    "class_distributions.label_proportions(labels)"
   ]
  },
  {
   "cell_type": "code",
   "execution_count": 7,
   "id": "f939763a-619d-4285-a9e3-0ecaca7ba3f9",
   "metadata": {},
   "outputs": [],
   "source": [
    "# prepare smaller dataset with only subset of classes\n",
    "\n",
    "old_classes = [1,2,3,4,5,6,7]\n",
    "new_class = 0\n",
    "\n",
    "# compute number of old labels used\n",
    "num_labels = len(old_classes)\n",
    "\n",
    "# relabel for XGBoost\n",
    "labels = helper_funcs.relabel(labels, old_classes, new_class)\n",
    "\n",
    "data_small = X[labels < num_labels]\n",
    "labels_small = labels[labels < num_labels]\n",
    "\n",
    "# attempt to retrain with new data\n",
    "data_update = X[labels == num_labels]\n",
    "labels_update = labels[labels == num_labels]\n",
    "\n",
    "# also train a model with all the data availale for comparison\n",
    "data_full = pd.concat([data_small, data_update])\n",
    "labels_full = pd.concat([labels_small, labels_update])"
   ]
  },
  {
   "cell_type": "code",
   "execution_count": 8,
   "id": "7ea72443-2c10-4e3b-ab1f-d55f750a1071",
   "metadata": {},
   "outputs": [],
   "source": [
    "# split data into train- and test-data\n",
    "\n",
    "X_train_small, X_test_small, y_train_small, y_test_small = skl.model_selection.train_test_split(data_small, \n",
    "                                                    labels_small,\n",
    "                                                    test_size=.2)"
   ]
  },
  {
   "cell_type": "code",
   "execution_count": 9,
   "id": "1f17c100-3d78-4b7d-8086-f8d9d1f27792",
   "metadata": {},
   "outputs": [],
   "source": [
    "# specify DMatrices\n",
    "\n",
    "dtrain_small = xgb.DMatrix(X_train_small, label=y_train_small)\n",
    "dtest_small = xgb.DMatrix(X_test_small, label=y_test_small)\n",
    "\n",
    "# specify some parameters\n",
    "proportion_of_old_data = [i*0.1 for i in range(1,10)]\n",
    "\n",
    "# specify paramters for XGBoost\n",
    "num_round = 5000\n",
    "early_stopping_rounds = num_round*.1\n",
    "max_depth = 3\n",
    "eta = .1\n",
    "\n",
    "param_small = {'max_depth': max_depth, 'eta': eta, 'objective': 'multi:softprob', \"num_class\": num_labels}\n",
    "param_small['nthread'] = 4\n",
    "param_small['eval_metric'] = 'mlogloss'\n",
    "\n",
    "# maybe adjust for overfitting\n",
    "#param_small['min_child_weight'] = 2\n",
    "#param_small['gamma'] = 2\n",
    "#param_small['subsample'] = 0.5\n",
    "\n",
    "evallist_small = [(dtrain_small, 'train'), (dtest_small, 'eval')]"
   ]
  },
  {
   "cell_type": "code",
   "execution_count": null,
   "id": "63a0e397-78c1-4c68-98ca-7bffbf5788bd",
   "metadata": {},
   "outputs": [
    {
     "name": "stdout",
     "output_type": "stream",
     "text": [
      "[0]\ttrain-mlogloss:1.91070\teval-mlogloss:1.91145\n",
      "[50]\ttrain-mlogloss:1.54291\teval-mlogloss:1.56024\n",
      "[100]\ttrain-mlogloss:1.49404\teval-mlogloss:1.52470\n",
      "[150]\ttrain-mlogloss:1.46655\teval-mlogloss:1.50961\n",
      "[200]\ttrain-mlogloss:1.44512\teval-mlogloss:1.50037\n",
      "[250]\ttrain-mlogloss:1.42749\teval-mlogloss:1.49443\n",
      "[300]\ttrain-mlogloss:1.41216\teval-mlogloss:1.49011\n",
      "[350]\ttrain-mlogloss:1.39847\teval-mlogloss:1.48644\n",
      "[400]\ttrain-mlogloss:1.38643\teval-mlogloss:1.48432\n",
      "[450]\ttrain-mlogloss:1.37507\teval-mlogloss:1.48259\n",
      "[500]\ttrain-mlogloss:1.36428\teval-mlogloss:1.48117\n",
      "[550]\ttrain-mlogloss:1.35398\teval-mlogloss:1.47994\n",
      "[600]\ttrain-mlogloss:1.34398\teval-mlogloss:1.47885\n",
      "[650]\ttrain-mlogloss:1.33416\teval-mlogloss:1.47798\n",
      "[700]\ttrain-mlogloss:1.32498\teval-mlogloss:1.47761\n",
      "[750]\ttrain-mlogloss:1.31587\teval-mlogloss:1.47655\n",
      "[800]\ttrain-mlogloss:1.30667\teval-mlogloss:1.47596\n",
      "[850]\ttrain-mlogloss:1.29781\teval-mlogloss:1.47531\n",
      "[900]\ttrain-mlogloss:1.28970\teval-mlogloss:1.47508\n",
      "[950]\ttrain-mlogloss:1.28186\teval-mlogloss:1.47504\n",
      "[1000]\ttrain-mlogloss:1.27431\teval-mlogloss:1.47528\n",
      "[1050]\ttrain-mlogloss:1.26635\teval-mlogloss:1.47550\n",
      "[1100]\ttrain-mlogloss:1.25863\teval-mlogloss:1.47553\n",
      "[1150]\ttrain-mlogloss:1.25087\teval-mlogloss:1.47544\n",
      "[1200]\ttrain-mlogloss:1.24348\teval-mlogloss:1.47550\n",
      "[1250]\ttrain-mlogloss:1.23641\teval-mlogloss:1.47564\n",
      "[1300]\ttrain-mlogloss:1.22928\teval-mlogloss:1.47593\n",
      "[1350]\ttrain-mlogloss:1.22200\teval-mlogloss:1.47613\n",
      "[1400]\ttrain-mlogloss:1.21498\teval-mlogloss:1.47643\n",
      "[1450]\ttrain-mlogloss:1.20827\teval-mlogloss:1.47677\n",
      "[1500]\ttrain-mlogloss:1.20141\teval-mlogloss:1.47680\n",
      "[1550]\ttrain-mlogloss:1.19467\teval-mlogloss:1.47736\n",
      "[1600]\ttrain-mlogloss:1.18784\teval-mlogloss:1.47789\n",
      "[1650]\ttrain-mlogloss:1.18118\teval-mlogloss:1.47838\n",
      "[1700]\ttrain-mlogloss:1.17478\teval-mlogloss:1.47895\n",
      "[1750]\ttrain-mlogloss:1.16837\teval-mlogloss:1.47950\n",
      "[1800]\ttrain-mlogloss:1.16205\teval-mlogloss:1.48010\n",
      "[1850]\ttrain-mlogloss:1.15579\teval-mlogloss:1.48074\n",
      "[1900]\ttrain-mlogloss:1.15003\teval-mlogloss:1.48121\n",
      "[1950]\ttrain-mlogloss:1.14371\teval-mlogloss:1.48189\n",
      "[2000]\ttrain-mlogloss:1.13766\teval-mlogloss:1.48220\n",
      "[2050]\ttrain-mlogloss:1.13179\teval-mlogloss:1.48245\n",
      "[2100]\ttrain-mlogloss:1.12578\teval-mlogloss:1.48303\n",
      "[2150]\ttrain-mlogloss:1.11969\teval-mlogloss:1.48350\n",
      "[2200]\ttrain-mlogloss:1.11384\teval-mlogloss:1.48427\n",
      "[2250]\ttrain-mlogloss:1.10831\teval-mlogloss:1.48478\n",
      "[2300]\ttrain-mlogloss:1.10222\teval-mlogloss:1.48557\n",
      "[2350]\ttrain-mlogloss:1.09619\teval-mlogloss:1.48608\n",
      "[2400]\ttrain-mlogloss:1.09041\teval-mlogloss:1.48663\n",
      "[2450]\ttrain-mlogloss:1.08492\teval-mlogloss:1.48729\n",
      "[2500]\ttrain-mlogloss:1.07931\teval-mlogloss:1.48782\n",
      "[2550]\ttrain-mlogloss:1.07372\teval-mlogloss:1.48865\n",
      "[2600]\ttrain-mlogloss:1.06821\teval-mlogloss:1.48935\n",
      "[2650]\ttrain-mlogloss:1.06274\teval-mlogloss:1.49005\n",
      "[2700]\ttrain-mlogloss:1.05700\teval-mlogloss:1.49062\n",
      "[2750]\ttrain-mlogloss:1.05165\teval-mlogloss:1.49137\n",
      "[2800]\ttrain-mlogloss:1.04600\teval-mlogloss:1.49209\n",
      "[2850]\ttrain-mlogloss:1.04066\teval-mlogloss:1.49293\n",
      "[2900]\ttrain-mlogloss:1.03520\teval-mlogloss:1.49370\n",
      "[2950]\ttrain-mlogloss:1.02987\teval-mlogloss:1.49438\n",
      "[3000]\ttrain-mlogloss:1.02448\teval-mlogloss:1.49486\n",
      "[3050]\ttrain-mlogloss:1.01956\teval-mlogloss:1.49570\n",
      "[3100]\ttrain-mlogloss:1.01437\teval-mlogloss:1.49652\n",
      "[3150]\ttrain-mlogloss:1.00935\teval-mlogloss:1.49744\n",
      "[3200]\ttrain-mlogloss:1.00424\teval-mlogloss:1.49815\n",
      "[3250]\ttrain-mlogloss:0.99911\teval-mlogloss:1.49881\n",
      "[3300]\ttrain-mlogloss:0.99434\teval-mlogloss:1.49957\n",
      "[3350]\ttrain-mlogloss:0.98930\teval-mlogloss:1.50008\n",
      "[3400]\ttrain-mlogloss:0.98419\teval-mlogloss:1.50073\n",
      "[3450]\ttrain-mlogloss:0.97937\teval-mlogloss:1.50145\n",
      "[3500]\ttrain-mlogloss:0.97467\teval-mlogloss:1.50222\n",
      "[3550]\ttrain-mlogloss:0.96985\teval-mlogloss:1.50301\n",
      "[3600]\ttrain-mlogloss:0.96520\teval-mlogloss:1.50378\n",
      "[3650]\ttrain-mlogloss:0.96035\teval-mlogloss:1.50448\n",
      "[3700]\ttrain-mlogloss:0.95560\teval-mlogloss:1.50525\n",
      "[3750]\ttrain-mlogloss:0.95071\teval-mlogloss:1.50595\n",
      "[3800]\ttrain-mlogloss:0.94606\teval-mlogloss:1.50651\n",
      "[3850]\ttrain-mlogloss:0.94145\teval-mlogloss:1.50723\n",
      "[3900]\ttrain-mlogloss:0.93690\teval-mlogloss:1.50793\n",
      "[3950]\ttrain-mlogloss:0.93242\teval-mlogloss:1.50856\n",
      "[4000]\ttrain-mlogloss:0.92816\teval-mlogloss:1.50930\n",
      "[4050]\ttrain-mlogloss:0.92360\teval-mlogloss:1.50968\n",
      "[4100]\ttrain-mlogloss:0.91876\teval-mlogloss:1.51031\n",
      "[4150]\ttrain-mlogloss:0.91446\teval-mlogloss:1.51126\n",
      "[4200]\ttrain-mlogloss:0.91005\teval-mlogloss:1.51206\n",
      "[4250]\ttrain-mlogloss:0.90561\teval-mlogloss:1.51292\n",
      "[4300]\ttrain-mlogloss:0.90130\teval-mlogloss:1.51365\n",
      "[4350]\ttrain-mlogloss:0.89688\teval-mlogloss:1.51433\n",
      "[4400]\ttrain-mlogloss:0.89261\teval-mlogloss:1.51507\n",
      "[4450]\ttrain-mlogloss:0.88828\teval-mlogloss:1.51588\n",
      "[4500]\ttrain-mlogloss:0.88405\teval-mlogloss:1.51653\n",
      "[4550]\ttrain-mlogloss:0.87992\teval-mlogloss:1.51726\n",
      "[4600]\ttrain-mlogloss:0.87575\teval-mlogloss:1.51814\n",
      "[4650]\ttrain-mlogloss:0.87146\teval-mlogloss:1.51892\n",
      "[4700]\ttrain-mlogloss:0.86726\teval-mlogloss:1.51938\n",
      "[4750]\ttrain-mlogloss:0.86301\teval-mlogloss:1.52006\n",
      "[4800]\ttrain-mlogloss:0.85884\teval-mlogloss:1.52058\n",
      "[4850]\ttrain-mlogloss:0.85507\teval-mlogloss:1.52116\n",
      "[4900]\ttrain-mlogloss:0.85113\teval-mlogloss:1.52190\n",
      "[4950]\ttrain-mlogloss:0.84709\teval-mlogloss:1.52277\n",
      "[4999]\ttrain-mlogloss:0.84330\teval-mlogloss:1.52364\n"
     ]
    }
   ],
   "source": [
    "# training model with fewer labels\n",
    "bst_small = xgb.train(param_small,\n",
    "                      dtrain_small,\n",
    "                      num_round,\n",
    "                      evals=evallist_small,\n",
    "                      #early_stopping_rounds=early_stopping_rounds,\n",
    "                      verbose_eval=50)\n",
    "\n",
    "bst_small.save_model('small_model.json')"
   ]
  },
  {
   "cell_type": "code",
   "execution_count": null,
   "id": "76d8eee4-3260-4963-8798-73780d72f270",
   "metadata": {},
   "outputs": [
    {
     "name": "stdout",
     "output_type": "stream",
     "text": [
      "Accuracy on test data:  0.36866482112436116\n"
     ]
    }
   ],
   "source": [
    "print(\"Accuracy on test data: \", skl.metrics.accuracy_score(np.argmax(bst_small.predict(dtest_small), axis=1), y_test_small))"
   ]
  },
  {
   "cell_type": "code",
   "execution_count": null,
   "id": "9a825687-a295-4c75-84f6-36af6e195181",
   "metadata": {},
   "outputs": [
    {
     "name": "stdout",
     "output_type": "stream",
     "text": [
      "Accuracy on train data:  0.7773311683126148\n"
     ]
    }
   ],
   "source": [
    "print(\"Accuracy on train data: \", skl.metrics.accuracy_score(np.argmax(bst_small.predict(dtrain_small), axis=1), y_train_small))"
   ]
  },
  {
   "cell_type": "code",
   "execution_count": null,
   "id": "5b28aeaa-b9fc-4cb2-8772-4acc63a4d86d",
   "metadata": {},
   "outputs": [],
   "source": [
    "importance_scores = bst_small.get_fscore()\n",
    "thresh = np.sort(np.array(list(importance_scores.values())))[int(len(importance_scores)*0.95)]\n",
    "del_cols = []\n",
    "for key, val in importance_scores.items():\n",
    "    if val < thresh:\n",
    "        del_cols.append(key)"
   ]
  },
  {
   "cell_type": "code",
   "execution_count": null,
   "id": "e3a52a52-ea62-4e84-8944-8e1b1471a6a6",
   "metadata": {},
   "outputs": [],
   "source": [
    "X_slim = X.drop(del_cols, axis=1)\n",
    "\n",
    "# split data into train- and test-data\n",
    "\n",
    "X_slim_train_small, X_slim_test_small, y_slim_train_small, y_slim_test_small = skl.model_selection.train_test_split(data_small, \n",
    "                                                                                                                    labels_small,\n",
    "                                                                                                                    test_size=.2)\n",
    "\n",
    "dtrain_slim_small = xgb.DMatrix(X_slim_train_small, label=y_slim_train_small)\n",
    "dtest_slim_small = xgb.DMatrix(X_slim_test_small, label=y_slim_test_small)"
   ]
  },
  {
   "cell_type": "code",
   "execution_count": null,
   "id": "06dfa0c7-17e7-4bab-9829-e41cc99597b2",
   "metadata": {},
   "outputs": [
    {
     "name": "stdout",
     "output_type": "stream",
     "text": [
      "[0]\ttrain-mlogloss:1.91070\teval-mlogloss:1.91145\n",
      "[50]\ttrain-mlogloss:1.54291\teval-mlogloss:1.56024\n",
      "[100]\ttrain-mlogloss:1.49404\teval-mlogloss:1.52470\n",
      "[150]\ttrain-mlogloss:1.46655\teval-mlogloss:1.50961\n",
      "[200]\ttrain-mlogloss:1.44512\teval-mlogloss:1.50037\n",
      "[250]\ttrain-mlogloss:1.42749\teval-mlogloss:1.49443\n",
      "[300]\ttrain-mlogloss:1.41216\teval-mlogloss:1.49011\n",
      "[350]\ttrain-mlogloss:1.39847\teval-mlogloss:1.48644\n",
      "[400]\ttrain-mlogloss:1.38643\teval-mlogloss:1.48432\n",
      "[450]\ttrain-mlogloss:1.37507\teval-mlogloss:1.48259\n",
      "[500]\ttrain-mlogloss:1.36428\teval-mlogloss:1.48117\n",
      "[550]\ttrain-mlogloss:1.35398\teval-mlogloss:1.47994\n",
      "[600]\ttrain-mlogloss:1.34398\teval-mlogloss:1.47885\n",
      "[650]\ttrain-mlogloss:1.33416\teval-mlogloss:1.47798\n",
      "[700]\ttrain-mlogloss:1.32498\teval-mlogloss:1.47761\n",
      "[750]\ttrain-mlogloss:1.31587\teval-mlogloss:1.47655\n",
      "[800]\ttrain-mlogloss:1.30667\teval-mlogloss:1.47596\n",
      "[850]\ttrain-mlogloss:1.29781\teval-mlogloss:1.47531\n",
      "[900]\ttrain-mlogloss:1.28970\teval-mlogloss:1.47508\n",
      "[950]\ttrain-mlogloss:1.28186\teval-mlogloss:1.47504\n",
      "[1000]\ttrain-mlogloss:1.27431\teval-mlogloss:1.47528\n",
      "[1050]\ttrain-mlogloss:1.26635\teval-mlogloss:1.47550\n",
      "[1100]\ttrain-mlogloss:1.25863\teval-mlogloss:1.47553\n",
      "[1150]\ttrain-mlogloss:1.25087\teval-mlogloss:1.47544\n",
      "[1200]\ttrain-mlogloss:1.24348\teval-mlogloss:1.47550\n",
      "[1250]\ttrain-mlogloss:1.23641\teval-mlogloss:1.47564\n",
      "[1300]\ttrain-mlogloss:1.22928\teval-mlogloss:1.47593\n",
      "[1350]\ttrain-mlogloss:1.22200\teval-mlogloss:1.47613\n",
      "[1400]\ttrain-mlogloss:1.21498\teval-mlogloss:1.47643\n",
      "[1450]\ttrain-mlogloss:1.20827\teval-mlogloss:1.47677\n",
      "[1500]\ttrain-mlogloss:1.20141\teval-mlogloss:1.47680\n",
      "[1550]\ttrain-mlogloss:1.19467\teval-mlogloss:1.47736\n",
      "[1600]\ttrain-mlogloss:1.18784\teval-mlogloss:1.47789\n",
      "[1650]\ttrain-mlogloss:1.18119\teval-mlogloss:1.47838\n",
      "[1700]\ttrain-mlogloss:1.17478\teval-mlogloss:1.47895\n",
      "[1750]\ttrain-mlogloss:1.16837\teval-mlogloss:1.47950\n",
      "[1800]\ttrain-mlogloss:1.16205\teval-mlogloss:1.48010\n",
      "[1850]\ttrain-mlogloss:1.15579\teval-mlogloss:1.48074\n",
      "[1900]\ttrain-mlogloss:1.15003\teval-mlogloss:1.48121\n",
      "[1950]\ttrain-mlogloss:1.14371\teval-mlogloss:1.48189\n",
      "[2000]\ttrain-mlogloss:1.13766\teval-mlogloss:1.48220\n",
      "[2050]\ttrain-mlogloss:1.13179\teval-mlogloss:1.48245\n",
      "[2100]\ttrain-mlogloss:1.12578\teval-mlogloss:1.48303\n",
      "[2150]\ttrain-mlogloss:1.11969\teval-mlogloss:1.48350\n",
      "[2200]\ttrain-mlogloss:1.11384\teval-mlogloss:1.48427\n",
      "[2250]\ttrain-mlogloss:1.10831\teval-mlogloss:1.48478\n",
      "[2300]\ttrain-mlogloss:1.10222\teval-mlogloss:1.48557\n",
      "[2350]\ttrain-mlogloss:1.09619\teval-mlogloss:1.48608\n",
      "[2400]\ttrain-mlogloss:1.09041\teval-mlogloss:1.48663\n",
      "[2450]\ttrain-mlogloss:1.08492\teval-mlogloss:1.48729\n",
      "[2500]\ttrain-mlogloss:1.07931\teval-mlogloss:1.48782\n",
      "[2550]\ttrain-mlogloss:1.07372\teval-mlogloss:1.48865\n",
      "[2600]\ttrain-mlogloss:1.06821\teval-mlogloss:1.48935\n",
      "[2650]\ttrain-mlogloss:1.06274\teval-mlogloss:1.49005\n",
      "[2700]\ttrain-mlogloss:1.05700\teval-mlogloss:1.49062\n",
      "[2750]\ttrain-mlogloss:1.05165\teval-mlogloss:1.49137\n",
      "[2800]\ttrain-mlogloss:1.04600\teval-mlogloss:1.49209\n",
      "[2850]\ttrain-mlogloss:1.04066\teval-mlogloss:1.49293\n",
      "[2900]\ttrain-mlogloss:1.03520\teval-mlogloss:1.49370\n",
      "[2950]\ttrain-mlogloss:1.02987\teval-mlogloss:1.49438\n",
      "[3000]\ttrain-mlogloss:1.02448\teval-mlogloss:1.49486\n",
      "[3050]\ttrain-mlogloss:1.01956\teval-mlogloss:1.49570\n",
      "[3100]\ttrain-mlogloss:1.01437\teval-mlogloss:1.49652\n",
      "[3150]\ttrain-mlogloss:1.00935\teval-mlogloss:1.49744\n",
      "[3200]\ttrain-mlogloss:1.00424\teval-mlogloss:1.49815\n",
      "[3250]\ttrain-mlogloss:0.99911\teval-mlogloss:1.49881\n",
      "[3300]\ttrain-mlogloss:0.99434\teval-mlogloss:1.49957\n",
      "[3350]\ttrain-mlogloss:0.98930\teval-mlogloss:1.50008\n",
      "[3400]\ttrain-mlogloss:0.98419\teval-mlogloss:1.50073\n",
      "[3450]\ttrain-mlogloss:0.97937\teval-mlogloss:1.50145\n",
      "[3500]\ttrain-mlogloss:0.97467\teval-mlogloss:1.50222\n",
      "[3550]\ttrain-mlogloss:0.96985\teval-mlogloss:1.50301\n",
      "[3600]\ttrain-mlogloss:0.96520\teval-mlogloss:1.50378\n",
      "[3650]\ttrain-mlogloss:0.96035\teval-mlogloss:1.50448\n",
      "[3700]\ttrain-mlogloss:0.95560\teval-mlogloss:1.50525\n",
      "[3750]\ttrain-mlogloss:0.95071\teval-mlogloss:1.50595\n",
      "[3800]\ttrain-mlogloss:0.94606\teval-mlogloss:1.50651\n",
      "[3850]\ttrain-mlogloss:0.94145\teval-mlogloss:1.50723\n",
      "[3900]\ttrain-mlogloss:0.93690\teval-mlogloss:1.50793\n",
      "[3950]\ttrain-mlogloss:0.93242\teval-mlogloss:1.50856\n",
      "[4000]\ttrain-mlogloss:0.92816\teval-mlogloss:1.50930\n",
      "[4050]\ttrain-mlogloss:0.92360\teval-mlogloss:1.50968\n",
      "[4100]\ttrain-mlogloss:0.91876\teval-mlogloss:1.51031\n",
      "[4150]\ttrain-mlogloss:0.91446\teval-mlogloss:1.51126\n",
      "[4200]\ttrain-mlogloss:0.91005\teval-mlogloss:1.51206\n",
      "[4250]\ttrain-mlogloss:0.90561\teval-mlogloss:1.51292\n",
      "[4300]\ttrain-mlogloss:0.90130\teval-mlogloss:1.51365\n",
      "[4350]\ttrain-mlogloss:0.89688\teval-mlogloss:1.51433\n",
      "[4400]\ttrain-mlogloss:0.89261\teval-mlogloss:1.51507\n",
      "[4450]\ttrain-mlogloss:0.88828\teval-mlogloss:1.51588\n",
      "[4500]\ttrain-mlogloss:0.88405\teval-mlogloss:1.51653\n",
      "[4550]\ttrain-mlogloss:0.87992\teval-mlogloss:1.51726\n",
      "[4600]\ttrain-mlogloss:0.87575\teval-mlogloss:1.51814\n",
      "[4650]\ttrain-mlogloss:0.87146\teval-mlogloss:1.51892\n",
      "[4700]\ttrain-mlogloss:0.86726\teval-mlogloss:1.51938\n",
      "[4750]\ttrain-mlogloss:0.86301\teval-mlogloss:1.52006\n",
      "[4800]\ttrain-mlogloss:0.85884\teval-mlogloss:1.52058\n",
      "[4850]\ttrain-mlogloss:0.85507\teval-mlogloss:1.52116\n",
      "[4900]\ttrain-mlogloss:0.85113\teval-mlogloss:1.52190\n",
      "[4950]\ttrain-mlogloss:0.84709\teval-mlogloss:1.52277\n",
      "[4999]\ttrain-mlogloss:0.84330\teval-mlogloss:1.52364\n"
     ]
    }
   ],
   "source": [
    "# training model with fewer labels\n",
    "bst_small = xgb.train(param_small,\n",
    "                      dtrain_small,\n",
    "                      num_round,\n",
    "                      evals=evallist_small,\n",
    "                      #early_stopping_rounds=early_stopping_rounds,\n",
    "                      verbose_eval=50)\n",
    "\n",
    "bst_small.save_model('small_model.json')"
   ]
  },
  {
   "cell_type": "code",
   "execution_count": null,
   "id": "b4001cae-938c-4bfe-bbd3-fa8b54b79978",
   "metadata": {},
   "outputs": [
    {
     "name": "stdout",
     "output_type": "stream",
     "text": [
      "Accuracy on test data:  0.6979344122657581\n"
     ]
    }
   ],
   "source": [
    "print(\"Accuracy on test data: \", skl.metrics.accuracy_score(np.argmax(bst_small.predict(dtest_slim_small), axis=1), y_slim_test_small))"
   ]
  },
  {
   "cell_type": "code",
   "execution_count": null,
   "id": "0d7e711b-f439-4581-9bcd-7483ace802fd",
   "metadata": {},
   "outputs": [
    {
     "name": "stdout",
     "output_type": "stream",
     "text": [
      "Accuracy on train data:  0.6950115793116299\n"
     ]
    }
   ],
   "source": [
    "print(\"Accuracy on train data: \", skl.metrics.accuracy_score(np.argmax(bst_small.predict(dtrain_slim_small), axis=1), y_slim_train_small))"
   ]
  },
  {
   "cell_type": "code",
   "execution_count": null,
   "id": "e23973c9-18ff-44a5-97c8-f4d3d0c4e861",
   "metadata": {},
   "outputs": [],
   "source": []
  }
 ],
 "metadata": {
  "kernelspec": {
   "display_name": "Python 3 (ipykernel)",
   "language": "python",
   "name": "python3"
  },
  "language_info": {
   "codemirror_mode": {
    "name": "ipython",
    "version": 3
   },
   "file_extension": ".py",
   "mimetype": "text/x-python",
   "name": "python",
   "nbconvert_exporter": "python",
   "pygments_lexer": "ipython3",
   "version": "3.10.12"
  }
 },
 "nbformat": 4,
 "nbformat_minor": 5
}
