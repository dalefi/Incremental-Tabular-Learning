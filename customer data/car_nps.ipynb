{
 "cells": [
  {
   "cell_type": "code",
   "execution_count": 1,
   "id": "8180eb2e-10cd-4b66-8ae8-9ee931f2192c",
   "metadata": {},
   "outputs": [],
   "source": [
    "from pathlib import Path\n",
    "\n",
    "import numpy as np\n",
    "import pandas as pd\n",
    "import xgboost as xgb\n",
    "import sklearn as skl\n",
    "import _pickle as pickle\n",
    "\n",
    "from mylib import class_distributions\n",
    "from mylib import data_selection\n",
    "from mylib import helper_funcs\n",
    "from mylib.db import preprocessing\n",
    "from mylib.db import constants\n",
    "from mylib.db import big_query as bq\n",
    "\n",
    "import dtreeviz\n",
    "import logging\n",
    "# to suppress messages when plotting trees\n",
    "logging.getLogger('matplotlib.font_manager').setLevel(level=logging.CRITICAL)\n",
    "import matplotlib.pyplot as plt\n",
    "\n",
    "%load_ext autoreload\n",
    "%autoreload 2"
   ]
  },
  {
   "cell_type": "code",
   "execution_count": 2,
   "id": "903f5545-2bbc-462e-b3bc-7f5c89ffbfb1",
   "metadata": {},
   "outputs": [
    {
     "data": {
      "text/html": [
       "<div>\n",
       "<style scoped>\n",
       "    .dataframe tbody tr th:only-of-type {\n",
       "        vertical-align: middle;\n",
       "    }\n",
       "\n",
       "    .dataframe tbody tr th {\n",
       "        vertical-align: top;\n",
       "    }\n",
       "\n",
       "    .dataframe thead th {\n",
       "        text-align: right;\n",
       "    }\n",
       "</style>\n",
       "<table border=\"1\" class=\"dataframe\">\n",
       "  <thead>\n",
       "    <tr style=\"text-align: right;\">\n",
       "      <th></th>\n",
       "      <th>client_id</th>\n",
       "      <th>answer_value</th>\n",
       "    </tr>\n",
       "  </thead>\n",
       "  <tbody>\n",
       "    <tr>\n",
       "      <th>0</th>\n",
       "      <td>2299753270</td>\n",
       "      <td>0</td>\n",
       "    </tr>\n",
       "    <tr>\n",
       "      <th>1</th>\n",
       "      <td>2397814757</td>\n",
       "      <td>0</td>\n",
       "    </tr>\n",
       "    <tr>\n",
       "      <th>2</th>\n",
       "      <td>1711030326</td>\n",
       "      <td>0</td>\n",
       "    </tr>\n",
       "    <tr>\n",
       "      <th>3</th>\n",
       "      <td>7899569306</td>\n",
       "      <td>0</td>\n",
       "    </tr>\n",
       "    <tr>\n",
       "      <th>4</th>\n",
       "      <td>2299381905</td>\n",
       "      <td>0</td>\n",
       "    </tr>\n",
       "    <tr>\n",
       "      <th>...</th>\n",
       "      <td>...</td>\n",
       "      <td>...</td>\n",
       "    </tr>\n",
       "    <tr>\n",
       "      <th>37971</th>\n",
       "      <td>8066164520</td>\n",
       "      <td>10</td>\n",
       "    </tr>\n",
       "    <tr>\n",
       "      <th>37972</th>\n",
       "      <td>4964688843</td>\n",
       "      <td>10</td>\n",
       "    </tr>\n",
       "    <tr>\n",
       "      <th>37973</th>\n",
       "      <td>6140979964</td>\n",
       "      <td>10</td>\n",
       "    </tr>\n",
       "    <tr>\n",
       "      <th>37974</th>\n",
       "      <td>1605807892</td>\n",
       "      <td>10</td>\n",
       "    </tr>\n",
       "    <tr>\n",
       "      <th>37975</th>\n",
       "      <td>0682336403</td>\n",
       "      <td>10</td>\n",
       "    </tr>\n",
       "  </tbody>\n",
       "</table>\n",
       "<p>37976 rows × 2 columns</p>\n",
       "</div>"
      ],
      "text/plain": [
       "        client_id answer_value\n",
       "0      2299753270            0\n",
       "1      2397814757            0\n",
       "2      1711030326            0\n",
       "3      7899569306            0\n",
       "4      2299381905            0\n",
       "...           ...          ...\n",
       "37971  8066164520           10\n",
       "37972  4964688843           10\n",
       "37973  6140979964           10\n",
       "37974  1605807892           10\n",
       "37975  0682336403           10\n",
       "\n",
       "[37976 rows x 2 columns]"
      ]
     },
     "execution_count": 2,
     "metadata": {},
     "output_type": "execute_result"
    }
   ],
   "source": [
    "from_date = \"2022-05-05\"\n",
    "to_date = \"2023-06-10\"\n",
    "bq.nps_query_timeframe(from_date, to_date)"
   ]
  },
  {
   "cell_type": "code",
   "execution_count": 3,
   "id": "dab01a9e-b3b8-485e-88fa-09162a863ab9",
   "metadata": {},
   "outputs": [],
   "source": [
    "test = bq.join_car_nps(from_date, to_date)"
   ]
  },
  {
   "cell_type": "code",
   "execution_count": 9,
   "id": "914e9a49-f512-4349-85f0-dca5fe7d161e",
   "metadata": {},
   "outputs": [
    {
     "data": {
      "text/plain": [
       "0         6633762767\n",
       "1         5234140387\n",
       "2         7704488013\n",
       "3         2047079333\n",
       "4         7968003121\n",
       "             ...    \n",
       "329869    5422204653\n",
       "329870    1390337965\n",
       "329871    0733237775\n",
       "329872    4635352823\n",
       "329873    3644378573\n",
       "Name: client_id, Length: 329874, dtype: object"
      ]
     },
     "execution_count": 9,
     "metadata": {},
     "output_type": "execute_result"
    }
   ],
   "source": [
    "test[\"client_id\"]#[\"2299753270\"]"
   ]
  },
  {
   "cell_type": "code",
   "execution_count": null,
   "id": "843387ec-ddf9-4384-b47a-de1534bf6c1d",
   "metadata": {},
   "outputs": [],
   "source": []
  }
 ],
 "metadata": {
  "kernelspec": {
   "display_name": "Python 3",
   "language": "python",
   "name": "python3"
  },
  "language_info": {
   "codemirror_mode": {
    "name": "ipython",
    "version": 3
   },
   "file_extension": ".py",
   "mimetype": "text/x-python",
   "name": "python",
   "nbconvert_exporter": "python",
   "pygments_lexer": "ipython3",
   "version": "3.8.15"
  }
 },
 "nbformat": 4,
 "nbformat_minor": 5
}
